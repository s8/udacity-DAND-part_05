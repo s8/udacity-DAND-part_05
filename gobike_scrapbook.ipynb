{
 "cells": [
  {
   "cell_type": "markdown",
   "metadata": {},
   "source": [
    "* some of the longest rides are across the 2017/2018 New Year's eve?\n",
    "* put total ride starts and ends per station into station dataframe\n",
    "\n",
    "\n",
    "median bike ride across the seasons?"
   ]
  },
  {
   "cell_type": "code",
   "execution_count": null,
   "metadata": {},
   "outputs": [],
   "source": [
    "# store unique station id's in a list\n",
    "station_ids = df_stations_clean.station_id.unique()\n",
    "\n",
    "# create a dictionary of unique stations with their coordinates and names\n",
    "stations = {}\n",
    "for station_id in station_ids:\n",
    "    names = df_stations_clean[df_stations_clean.station_id == station_id].name\n",
    "    latitude = df_stations_clean[df_stations_clean.station_id == station_id].latitude.mean()\n",
    "    longitude = df_stations_clean[df_stations_clean.station_id == station_id].longitude.mean()\n",
    "    stations[station_id] = {\n",
    "        'names':list(set(names)), \n",
    "        'latitude':round(latitude,4),\n",
    "        'longitude':round(longitude,4)\n",
    "    }"
   ]
  }
 ],
 "metadata": {
  "kernelspec": {
   "display_name": "Python 3",
   "language": "python",
   "name": "python3"
  },
  "language_info": {
   "codemirror_mode": {
    "name": "ipython",
    "version": 3
   },
   "file_extension": ".py",
   "mimetype": "text/x-python",
   "name": "python",
   "nbconvert_exporter": "python",
   "pygments_lexer": "ipython3",
   "version": "3.7.3"
  },
  "toc": {
   "base_numbering": 1,
   "nav_menu": {},
   "number_sections": true,
   "sideBar": true,
   "skip_h1_title": false,
   "title_cell": "Table of Contents",
   "title_sidebar": "Contents",
   "toc_cell": false,
   "toc_position": {},
   "toc_section_display": true,
   "toc_window_display": true
  }
 },
 "nbformat": 4,
 "nbformat_minor": 2
}
