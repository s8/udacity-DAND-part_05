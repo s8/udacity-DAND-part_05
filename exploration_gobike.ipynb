{
 "cells": [
  {
   "cell_type": "markdown",
   "metadata": {},
   "source": [
    "**GoBike 2017-19 dataset exploration**\n",
    "\n",
    "by Konstantin Leonenko"
   ]
  },
  {
   "cell_type": "markdown",
   "metadata": {},
   "source": [
    "# Preliminary Wrangling\n",
    "\n",
    "> Briefly introduce your dataset here."
   ]
  },
  {
   "cell_type": "code",
   "execution_count": 1,
   "metadata": {},
   "outputs": [],
   "source": [
    "# import all packages and set plots to be embedded inline\n",
    "import numpy as np\n",
    "import pandas as pd\n",
    "import matplotlib.pyplot as plt\n",
    "import seaborn as sb\n",
    "import random\n",
    "\n",
    "%matplotlib inline"
   ]
  },
  {
   "cell_type": "markdown",
   "metadata": {},
   "source": [
    "## Load all the data from .csv files"
   ]
  },
  {
   "cell_type": "code",
   "execution_count": 2,
   "metadata": {
    "scrolled": true
   },
   "outputs": [
    {
     "name": "stderr",
     "output_type": "stream",
     "text": [
      "/Users/s8/anaconda3/lib/python3.7/site-packages/IPython/core/interactiveshell.py:3051: DtypeWarning: Columns (16) have mixed types. Specify dtype option on import or set low_memory=False.\n",
      "  interactivity=interactivity, compiler=compiler, result=result)\n",
      "/Users/s8/anaconda3/lib/python3.7/site-packages/IPython/core/interactiveshell.py:3051: DtypeWarning: Columns (15,16) have mixed types. Specify dtype option on import or set low_memory=False.\n",
      "  interactivity=interactivity, compiler=compiler, result=result)\n"
     ]
    }
   ],
   "source": [
    "gobike_2017 = pd.read_csv('data/gobike/2017-fordgobike-tripdata.csv')\n",
    "gobike_2018_01 = pd.read_csv('data/gobike/201801-fordgobike-tripdata.csv')\n",
    "gobike_2018_02 = pd.read_csv('data/gobike/201802-fordgobike-tripdata.csv')\n",
    "gobike_2018_03 = pd.read_csv('data/gobike/201803-fordgobike-tripdata.csv')\n",
    "gobike_2018_04 = pd.read_csv('data/gobike/201804-fordgobike-tripdata.csv')\n",
    "gobike_2018_05 = pd.read_csv('data/gobike/201805-fordgobike-tripdata.csv')\n",
    "gobike_2018_06 = pd.read_csv('data/gobike/201806-fordgobike-tripdata.csv')\n",
    "gobike_2018_07 = pd.read_csv('data/gobike/201807-fordgobike-tripdata.csv')\n",
    "gobike_2018_08 = pd.read_csv('data/gobike/201808-fordgobike-tripdata.csv')\n",
    "gobike_2018_09 = pd.read_csv('data/gobike/201809-fordgobike-tripdata.csv')\n",
    "gobike_2018_10 = pd.read_csv('data/gobike/201810-fordgobike-tripdata.csv')\n",
    "gobike_2018_11 = pd.read_csv('data/gobike/201811-fordgobike-tripdata.csv')\n",
    "gobike_2018_12 = pd.read_csv('data/gobike/201812-fordgobike-tripdata.csv')\n",
    "gobike_2019_01 = pd.read_csv('data/gobike/201901-fordgobike-tripdata.csv')\n",
    "gobike_2019_02 = pd.read_csv('data/gobike/201902-fordgobike-tripdata.csv')\n",
    "gobike_2019_03 = pd.read_csv('data/gobike/201903-fordgobike-tripdata.csv')\n",
    "gobike_2019_04 = pd.read_csv('data/gobike/201904-fordgobike-tripdata.csv')\n",
    "gobike_2019_05 = pd.read_csv('data/gobike/201905-baywheels-tripdata.csv')\n",
    "gobike_2019_06 = pd.read_csv('data/gobike/201906-baywheels-tripdata.csv')\n",
    "# in the july 2019 dataset values are separated by semicolons rather than commas\n",
    "gobike_2019_07 = pd.read_csv('data/gobike/201907-baywheels-tripdata.csv', delimiter = ';')\n",
    "gobike_2019_08 = pd.read_csv('data/gobike/201908-baywheels-tripdata.csv')\n",
    "gobike_2019_09 = pd.read_csv('data/gobike/201909-baywheels-tripdata.csv')\n",
    "gobike_2019_10 = pd.read_csv('data/gobike/201910-baywheels-tripdata.csv')\n"
   ]
  },
  {
   "cell_type": "markdown",
   "metadata": {},
   "source": [
    "## Merge all data into a single dataframe"
   ]
  },
  {
   "cell_type": "code",
   "execution_count": 3,
   "metadata": {},
   "outputs": [
    {
     "name": "stderr",
     "output_type": "stream",
     "text": [
      "/Users/s8/anaconda3/lib/python3.7/site-packages/pandas/core/frame.py:7138: FutureWarning: Sorting because non-concatenation axis is not aligned. A future version\n",
      "of pandas will change to not sort by default.\n",
      "\n",
      "To accept the future behavior, pass 'sort=False'.\n",
      "\n",
      "To retain the current behavior and silence the warning, pass 'sort=True'.\n",
      "\n",
      "  sort=sort,\n"
     ]
    }
   ],
   "source": [
    "df_gobike = pd.DataFrame(data = gobike_2017)\n",
    "df_gobike = df_gobike.append(gobike_2018_01)\n",
    "df_gobike = df_gobike.append(gobike_2018_02)\n",
    "df_gobike = df_gobike.append(gobike_2018_03)\n",
    "df_gobike = df_gobike.append(gobike_2018_04)\n",
    "df_gobike = df_gobike.append(gobike_2018_05)\n",
    "df_gobike = df_gobike.append(gobike_2018_06)\n",
    "df_gobike = df_gobike.append(gobike_2018_07)\n",
    "df_gobike = df_gobike.append(gobike_2018_08)\n",
    "df_gobike = df_gobike.append(gobike_2018_09)\n",
    "df_gobike = df_gobike.append(gobike_2018_10)\n",
    "df_gobike = df_gobike.append(gobike_2018_11)\n",
    "df_gobike = df_gobike.append(gobike_2018_12)\n",
    "df_gobike = df_gobike.append(gobike_2019_01)\n",
    "df_gobike = df_gobike.append(gobike_2019_02)\n",
    "df_gobike = df_gobike.append(gobike_2019_03)\n",
    "df_gobike = df_gobike.append(gobike_2019_04)\n",
    "df_gobike = df_gobike.append(gobike_2019_05)\n",
    "df_gobike = df_gobike.append(gobike_2019_06)\n",
    "df_gobike = df_gobike.append(gobike_2019_07)\n",
    "df_gobike = df_gobike.append(gobike_2019_08)\n",
    "df_gobike = df_gobike.append(gobike_2019_09)\n",
    "df_gobike = df_gobike.append(gobike_2019_10)"
   ]
  },
  {
   "cell_type": "code",
   "execution_count": 4,
   "metadata": {},
   "outputs": [
    {
     "data": {
      "text/plain": [
       "Index(['bike_id', 'bike_share_for_all_trip', 'duration_sec', 'end_station_id',\n",
       "       'end_station_latitude', 'end_station_longitude', 'end_station_name',\n",
       "       'end_time', 'member_birth_year', 'member_gender',\n",
       "       'rental_access_method', 'start_station_id', 'start_station_latitude',\n",
       "       'start_station_longitude', 'start_station_name', 'start_time',\n",
       "       'user_type'],\n",
       "      dtype='object')"
      ]
     },
     "execution_count": 4,
     "metadata": {},
     "output_type": "execute_result"
    }
   ],
   "source": [
    "df_gobike.columns"
   ]
  },
  {
   "cell_type": "code",
   "execution_count": 5,
   "metadata": {
    "scrolled": true
   },
   "outputs": [
    {
     "name": "stdout",
     "output_type": "stream",
     "text": [
      "<class 'pandas.core.frame.DataFrame'>\n",
      "Int64Index: 4554806 entries, 0 to 239894\n",
      "Data columns (total 17 columns):\n",
      "bike_id                    int64\n",
      "bike_share_for_all_trip    object\n",
      "duration_sec               int64\n",
      "end_station_id             float64\n",
      "end_station_latitude       float64\n",
      "end_station_longitude      float64\n",
      "end_station_name           object\n",
      "end_time                   object\n",
      "member_birth_year          float64\n",
      "member_gender              object\n",
      "rental_access_method       object\n",
      "start_station_id           float64\n",
      "start_station_latitude     float64\n",
      "start_station_longitude    float64\n",
      "start_station_name         object\n",
      "start_time                 object\n",
      "user_type                  object\n",
      "dtypes: float64(7), int64(2), object(8)\n",
      "memory usage: 625.5+ MB\n"
     ]
    }
   ],
   "source": [
    "df_gobike.info()"
   ]
  },
  {
   "cell_type": "code",
   "execution_count": 6,
   "metadata": {
    "scrolled": true
   },
   "outputs": [
    {
     "data": {
      "text/html": [
       "<div>\n",
       "<style scoped>\n",
       "    .dataframe tbody tr th:only-of-type {\n",
       "        vertical-align: middle;\n",
       "    }\n",
       "\n",
       "    .dataframe tbody tr th {\n",
       "        vertical-align: top;\n",
       "    }\n",
       "\n",
       "    .dataframe thead th {\n",
       "        text-align: right;\n",
       "    }\n",
       "</style>\n",
       "<table border=\"1\" class=\"dataframe\">\n",
       "  <thead>\n",
       "    <tr style=\"text-align: right;\">\n",
       "      <th></th>\n",
       "      <th>bike_id</th>\n",
       "      <th>bike_share_for_all_trip</th>\n",
       "      <th>duration_sec</th>\n",
       "      <th>end_station_id</th>\n",
       "      <th>end_station_latitude</th>\n",
       "      <th>end_station_longitude</th>\n",
       "      <th>end_station_name</th>\n",
       "      <th>end_time</th>\n",
       "      <th>member_birth_year</th>\n",
       "      <th>member_gender</th>\n",
       "      <th>rental_access_method</th>\n",
       "      <th>start_station_id</th>\n",
       "      <th>start_station_latitude</th>\n",
       "      <th>start_station_longitude</th>\n",
       "      <th>start_station_name</th>\n",
       "      <th>start_time</th>\n",
       "      <th>user_type</th>\n",
       "    </tr>\n",
       "  </thead>\n",
       "  <tbody>\n",
       "    <tr>\n",
       "      <th>0</th>\n",
       "      <td>96</td>\n",
       "      <td>NaN</td>\n",
       "      <td>80110</td>\n",
       "      <td>43.0</td>\n",
       "      <td>37.778768</td>\n",
       "      <td>-122.415929</td>\n",
       "      <td>San Francisco Public Library (Grove St at Hyde...</td>\n",
       "      <td>2018-01-01 15:12:50.2450</td>\n",
       "      <td>1987.0</td>\n",
       "      <td>Male</td>\n",
       "      <td>NaN</td>\n",
       "      <td>74.0</td>\n",
       "      <td>37.776435</td>\n",
       "      <td>-122.426244</td>\n",
       "      <td>Laguna St at Hayes St</td>\n",
       "      <td>2017-12-31 16:57:39.6540</td>\n",
       "      <td>Customer</td>\n",
       "    </tr>\n",
       "    <tr>\n",
       "      <th>1</th>\n",
       "      <td>88</td>\n",
       "      <td>NaN</td>\n",
       "      <td>78800</td>\n",
       "      <td>96.0</td>\n",
       "      <td>37.766210</td>\n",
       "      <td>-122.426614</td>\n",
       "      <td>Dolores St at 15th St</td>\n",
       "      <td>2018-01-01 13:49:55.6170</td>\n",
       "      <td>1965.0</td>\n",
       "      <td>Female</td>\n",
       "      <td>NaN</td>\n",
       "      <td>284.0</td>\n",
       "      <td>37.784872</td>\n",
       "      <td>-122.400876</td>\n",
       "      <td>Yerba Buena Center for the Arts (Howard St at ...</td>\n",
       "      <td>2017-12-31 15:56:34.8420</td>\n",
       "      <td>Customer</td>\n",
       "    </tr>\n",
       "    <tr>\n",
       "      <th>2</th>\n",
       "      <td>1094</td>\n",
       "      <td>NaN</td>\n",
       "      <td>45768</td>\n",
       "      <td>245.0</td>\n",
       "      <td>37.870348</td>\n",
       "      <td>-122.267764</td>\n",
       "      <td>Downtown Berkeley BART</td>\n",
       "      <td>2018-01-01 11:28:36.8830</td>\n",
       "      <td>NaN</td>\n",
       "      <td>NaN</td>\n",
       "      <td>NaN</td>\n",
       "      <td>245.0</td>\n",
       "      <td>37.870348</td>\n",
       "      <td>-122.267764</td>\n",
       "      <td>Downtown Berkeley BART</td>\n",
       "      <td>2017-12-31 22:45:48.4110</td>\n",
       "      <td>Customer</td>\n",
       "    </tr>\n",
       "    <tr>\n",
       "      <th>3</th>\n",
       "      <td>2831</td>\n",
       "      <td>NaN</td>\n",
       "      <td>62172</td>\n",
       "      <td>5.0</td>\n",
       "      <td>37.783899</td>\n",
       "      <td>-122.408445</td>\n",
       "      <td>Powell St BART Station (Market St at 5th St)</td>\n",
       "      <td>2018-01-01 10:47:23.5310</td>\n",
       "      <td>NaN</td>\n",
       "      <td>NaN</td>\n",
       "      <td>NaN</td>\n",
       "      <td>60.0</td>\n",
       "      <td>37.774520</td>\n",
       "      <td>-122.409449</td>\n",
       "      <td>8th St at Ringold St</td>\n",
       "      <td>2017-12-31 17:31:10.6360</td>\n",
       "      <td>Customer</td>\n",
       "    </tr>\n",
       "    <tr>\n",
       "      <th>4</th>\n",
       "      <td>3167</td>\n",
       "      <td>NaN</td>\n",
       "      <td>43603</td>\n",
       "      <td>247.0</td>\n",
       "      <td>37.867789</td>\n",
       "      <td>-122.265896</td>\n",
       "      <td>Fulton St at Bancroft Way</td>\n",
       "      <td>2018-01-01 02:29:57.5710</td>\n",
       "      <td>1997.0</td>\n",
       "      <td>Female</td>\n",
       "      <td>NaN</td>\n",
       "      <td>239.0</td>\n",
       "      <td>37.868813</td>\n",
       "      <td>-122.258764</td>\n",
       "      <td>Bancroft Way at Telegraph Ave</td>\n",
       "      <td>2017-12-31 14:23:14.0010</td>\n",
       "      <td>Subscriber</td>\n",
       "    </tr>\n",
       "  </tbody>\n",
       "</table>\n",
       "</div>"
      ],
      "text/plain": [
       "   bike_id bike_share_for_all_trip  duration_sec  end_station_id  \\\n",
       "0       96                     NaN         80110            43.0   \n",
       "1       88                     NaN         78800            96.0   \n",
       "2     1094                     NaN         45768           245.0   \n",
       "3     2831                     NaN         62172             5.0   \n",
       "4     3167                     NaN         43603           247.0   \n",
       "\n",
       "   end_station_latitude  end_station_longitude  \\\n",
       "0             37.778768            -122.415929   \n",
       "1             37.766210            -122.426614   \n",
       "2             37.870348            -122.267764   \n",
       "3             37.783899            -122.408445   \n",
       "4             37.867789            -122.265896   \n",
       "\n",
       "                                    end_station_name  \\\n",
       "0  San Francisco Public Library (Grove St at Hyde...   \n",
       "1                              Dolores St at 15th St   \n",
       "2                             Downtown Berkeley BART   \n",
       "3       Powell St BART Station (Market St at 5th St)   \n",
       "4                          Fulton St at Bancroft Way   \n",
       "\n",
       "                   end_time  member_birth_year member_gender  \\\n",
       "0  2018-01-01 15:12:50.2450             1987.0          Male   \n",
       "1  2018-01-01 13:49:55.6170             1965.0        Female   \n",
       "2  2018-01-01 11:28:36.8830                NaN           NaN   \n",
       "3  2018-01-01 10:47:23.5310                NaN           NaN   \n",
       "4  2018-01-01 02:29:57.5710             1997.0        Female   \n",
       "\n",
       "  rental_access_method  start_station_id  start_station_latitude  \\\n",
       "0                  NaN              74.0               37.776435   \n",
       "1                  NaN             284.0               37.784872   \n",
       "2                  NaN             245.0               37.870348   \n",
       "3                  NaN              60.0               37.774520   \n",
       "4                  NaN             239.0               37.868813   \n",
       "\n",
       "   start_station_longitude                                 start_station_name  \\\n",
       "0              -122.426244                              Laguna St at Hayes St   \n",
       "1              -122.400876  Yerba Buena Center for the Arts (Howard St at ...   \n",
       "2              -122.267764                             Downtown Berkeley BART   \n",
       "3              -122.409449                               8th St at Ringold St   \n",
       "4              -122.258764                      Bancroft Way at Telegraph Ave   \n",
       "\n",
       "                 start_time   user_type  \n",
       "0  2017-12-31 16:57:39.6540    Customer  \n",
       "1  2017-12-31 15:56:34.8420    Customer  \n",
       "2  2017-12-31 22:45:48.4110    Customer  \n",
       "3  2017-12-31 17:31:10.6360    Customer  \n",
       "4  2017-12-31 14:23:14.0010  Subscriber  "
      ]
     },
     "execution_count": 6,
     "metadata": {},
     "output_type": "execute_result"
    }
   ],
   "source": [
    "df_gobike.head()"
   ]
  },
  {
   "cell_type": "code",
   "execution_count": 7,
   "metadata": {},
   "outputs": [
    {
     "name": "stdout",
     "output_type": "stream",
     "text": [
      "bike_id  :  0\n",
      "bike_share_for_all_trip  :  611447\n",
      "duration_sec  :  0\n",
      "end_station_id  :  72354\n",
      "end_station_latitude  :  0\n",
      "end_station_longitude  :  0\n",
      "end_station_name  :  71804\n",
      "end_time  :  0\n",
      "member_birth_year  :  432245\n",
      "member_gender  :  419016\n",
      "rental_access_method  :  4463059\n",
      "start_station_id  :  70563\n",
      "start_station_latitude  :  0\n",
      "start_station_longitude  :  0\n",
      "start_station_name  :  69967\n",
      "start_time  :  0\n",
      "user_type  :  0\n"
     ]
    }
   ],
   "source": [
    "# let's quickly see how much data is missing from the dataset\n",
    "for i in df_gobike.columns:\n",
    "    print (i, ' : ', len(df_gobike[df_gobike[i].isnull()]))"
   ]
  },
  {
   "cell_type": "markdown",
   "metadata": {},
   "source": [
    "mainly it's data about station id's and names. According to the rules of tidy data we should move the information about the stations, such as location, name, etc. into a separate table, and only keep trip start and end station id's in the dataset. "
   ]
  },
  {
   "cell_type": "markdown",
   "metadata": {},
   "source": [
    "## Extract station geographical information into a separate dataframe"
   ]
  },
  {
   "cell_type": "code",
   "execution_count": 8,
   "metadata": {},
   "outputs": [],
   "source": [
    "# let's extract start and end station information\n",
    "df_start_stations = df_gobike[['start_station_id','start_station_latitude','start_station_longitude','start_station_name']]\n",
    "df_end_stations =  df_gobike[['end_station_id','end_station_latitude','end_station_longitude','end_station_name']]\n",
    "# start and end information belongs in the rides table, not in the station table.\n",
    "# let's just merge these\n",
    "df_start_stations = df_start_stations.rename(columns={'start_station_id':'station_id', 'start_station_latitude':'latitude','start_station_longitude':'longitude','start_station_name':'name'})\n",
    "df_end_stations = df_end_stations.rename(columns={'end_station_id':'station_id', 'end_station_latitude':'latitude','end_station_longitude':'longitude','end_station_name':'name'})\n",
    "df_stations = df_start_stations.append(df_end_stations)"
   ]
  },
  {
   "cell_type": "code",
   "execution_count": 9,
   "metadata": {},
   "outputs": [
    {
     "data": {
      "text/html": [
       "<div>\n",
       "<style scoped>\n",
       "    .dataframe tbody tr th:only-of-type {\n",
       "        vertical-align: middle;\n",
       "    }\n",
       "\n",
       "    .dataframe tbody tr th {\n",
       "        vertical-align: top;\n",
       "    }\n",
       "\n",
       "    .dataframe thead th {\n",
       "        text-align: right;\n",
       "    }\n",
       "</style>\n",
       "<table border=\"1\" class=\"dataframe\">\n",
       "  <thead>\n",
       "    <tr style=\"text-align: right;\">\n",
       "      <th></th>\n",
       "      <th>station_id</th>\n",
       "      <th>latitude</th>\n",
       "      <th>longitude</th>\n",
       "      <th>name</th>\n",
       "    </tr>\n",
       "  </thead>\n",
       "  <tbody>\n",
       "    <tr>\n",
       "      <th>0</th>\n",
       "      <td>74.0</td>\n",
       "      <td>37.776435</td>\n",
       "      <td>-122.426244</td>\n",
       "      <td>Laguna St at Hayes St</td>\n",
       "    </tr>\n",
       "    <tr>\n",
       "      <th>1</th>\n",
       "      <td>284.0</td>\n",
       "      <td>37.784872</td>\n",
       "      <td>-122.400876</td>\n",
       "      <td>Yerba Buena Center for the Arts (Howard St at ...</td>\n",
       "    </tr>\n",
       "    <tr>\n",
       "      <th>2</th>\n",
       "      <td>245.0</td>\n",
       "      <td>37.870348</td>\n",
       "      <td>-122.267764</td>\n",
       "      <td>Downtown Berkeley BART</td>\n",
       "    </tr>\n",
       "    <tr>\n",
       "      <th>3</th>\n",
       "      <td>60.0</td>\n",
       "      <td>37.774520</td>\n",
       "      <td>-122.409449</td>\n",
       "      <td>8th St at Ringold St</td>\n",
       "    </tr>\n",
       "    <tr>\n",
       "      <th>4</th>\n",
       "      <td>239.0</td>\n",
       "      <td>37.868813</td>\n",
       "      <td>-122.258764</td>\n",
       "      <td>Bancroft Way at Telegraph Ave</td>\n",
       "    </tr>\n",
       "  </tbody>\n",
       "</table>\n",
       "</div>"
      ],
      "text/plain": [
       "   station_id   latitude   longitude  \\\n",
       "0        74.0  37.776435 -122.426244   \n",
       "1       284.0  37.784872 -122.400876   \n",
       "2       245.0  37.870348 -122.267764   \n",
       "3        60.0  37.774520 -122.409449   \n",
       "4       239.0  37.868813 -122.258764   \n",
       "\n",
       "                                                name  \n",
       "0                              Laguna St at Hayes St  \n",
       "1  Yerba Buena Center for the Arts (Howard St at ...  \n",
       "2                             Downtown Berkeley BART  \n",
       "3                               8th St at Ringold St  \n",
       "4                      Bancroft Way at Telegraph Ave  "
      ]
     },
     "execution_count": 9,
     "metadata": {},
     "output_type": "execute_result"
    }
   ],
   "source": [
    "df_stations.head()"
   ]
  },
  {
   "cell_type": "code",
   "execution_count": 10,
   "metadata": {},
   "outputs": [
    {
     "name": "stdout",
     "output_type": "stream",
     "text": [
      "unique station ids:  427\n",
      "unique station names:  459\n",
      "total entries:  9109612\n"
     ]
    }
   ],
   "source": [
    "# how many unique station id's are there?\n",
    "print ('unique station ids: ', df_stations.station_id.nunique())\n",
    "print ('unique station names: ', df_stations.name.nunique())\n",
    "print ('total entries: ', len(df_stations))"
   ]
  },
  {
   "cell_type": "code",
   "execution_count": 11,
   "metadata": {},
   "outputs": [],
   "source": [
    "# make a copy of the stations dataframe before cleaning\n",
    "df_stations_clean = df_stations"
   ]
  },
  {
   "cell_type": "code",
   "execution_count": 12,
   "metadata": {},
   "outputs": [],
   "source": [
    "# save stations with no id into a separate dataframe and remove them from the main station dataframe\n",
    "df_null_stations = df_stations_clean[df_stations_clean.station_id.isnull()]\n",
    "df_stations_clean.drop(df_null_stations.index, inplace=True)"
   ]
  },
  {
   "cell_type": "code",
   "execution_count": 13,
   "metadata": {},
   "outputs": [],
   "source": [
    "# cast station id's from floats into ints\n",
    "df_stations_clean.station_id = df_stations_clean.station_id.astype(int)"
   ]
  },
  {
   "cell_type": "code",
   "execution_count": 14,
   "metadata": {},
   "outputs": [],
   "source": [
    "# store unique station id's in a list\n",
    "station_ids = df_stations_clean.station_id.unique()"
   ]
  },
  {
   "cell_type": "code",
   "execution_count": 15,
   "metadata": {},
   "outputs": [],
   "source": [
    "# create a dictionary of unique stations with their coordinates and names\n",
    "stations = {}\n",
    "for station_id in station_ids:\n",
    "    names = df_stations_clean[df_stations_clean.station_id == station_id].name\n",
    "    latitude = df_stations_clean[df_stations_clean.station_id == station_id].latitude.mean()\n",
    "    longitude = df_stations_clean[df_stations_clean.station_id == station_id].longitude.mean()\n",
    "    stations[station_id] = {\n",
    "        'names':list(set(names)), \n",
    "        'latitude':round(latitude,3),\n",
    "        'longitude':round(longitude,3)\n",
    "    }"
   ]
  },
  {
   "cell_type": "markdown",
   "metadata": {},
   "source": [
    "Now that we have station info stored in an efficient dictionary - let's remove station specific data from the main dataset"
   ]
  },
  {
   "cell_type": "code",
   "execution_count": 16,
   "metadata": {},
   "outputs": [],
   "source": [
    "# before cleaning - make a copy of the dataset\n",
    "df_gobike_clean = df_gobike"
   ]
  },
  {
   "cell_type": "code",
   "execution_count": 17,
   "metadata": {},
   "outputs": [
    {
     "data": {
      "text/html": [
       "<div>\n",
       "<style scoped>\n",
       "    .dataframe tbody tr th:only-of-type {\n",
       "        vertical-align: middle;\n",
       "    }\n",
       "\n",
       "    .dataframe tbody tr th {\n",
       "        vertical-align: top;\n",
       "    }\n",
       "\n",
       "    .dataframe thead th {\n",
       "        text-align: right;\n",
       "    }\n",
       "</style>\n",
       "<table border=\"1\" class=\"dataframe\">\n",
       "  <thead>\n",
       "    <tr style=\"text-align: right;\">\n",
       "      <th></th>\n",
       "      <th>bike_id</th>\n",
       "      <th>bike_share_for_all_trip</th>\n",
       "      <th>duration_sec</th>\n",
       "      <th>end_station_id</th>\n",
       "      <th>end_station_latitude</th>\n",
       "      <th>end_station_longitude</th>\n",
       "      <th>end_station_name</th>\n",
       "      <th>end_time</th>\n",
       "      <th>member_birth_year</th>\n",
       "      <th>member_gender</th>\n",
       "      <th>rental_access_method</th>\n",
       "      <th>start_station_id</th>\n",
       "      <th>start_station_latitude</th>\n",
       "      <th>start_station_longitude</th>\n",
       "      <th>start_station_name</th>\n",
       "      <th>start_time</th>\n",
       "      <th>user_type</th>\n",
       "    </tr>\n",
       "  </thead>\n",
       "  <tbody>\n",
       "    <tr>\n",
       "      <th>0</th>\n",
       "      <td>96</td>\n",
       "      <td>NaN</td>\n",
       "      <td>80110</td>\n",
       "      <td>43.0</td>\n",
       "      <td>37.778768</td>\n",
       "      <td>-122.415929</td>\n",
       "      <td>San Francisco Public Library (Grove St at Hyde...</td>\n",
       "      <td>2018-01-01 15:12:50.2450</td>\n",
       "      <td>1987.0</td>\n",
       "      <td>Male</td>\n",
       "      <td>NaN</td>\n",
       "      <td>74.0</td>\n",
       "      <td>37.776435</td>\n",
       "      <td>-122.426244</td>\n",
       "      <td>Laguna St at Hayes St</td>\n",
       "      <td>2017-12-31 16:57:39.6540</td>\n",
       "      <td>Customer</td>\n",
       "    </tr>\n",
       "    <tr>\n",
       "      <th>1</th>\n",
       "      <td>88</td>\n",
       "      <td>NaN</td>\n",
       "      <td>78800</td>\n",
       "      <td>96.0</td>\n",
       "      <td>37.766210</td>\n",
       "      <td>-122.426614</td>\n",
       "      <td>Dolores St at 15th St</td>\n",
       "      <td>2018-01-01 13:49:55.6170</td>\n",
       "      <td>1965.0</td>\n",
       "      <td>Female</td>\n",
       "      <td>NaN</td>\n",
       "      <td>284.0</td>\n",
       "      <td>37.784872</td>\n",
       "      <td>-122.400876</td>\n",
       "      <td>Yerba Buena Center for the Arts (Howard St at ...</td>\n",
       "      <td>2017-12-31 15:56:34.8420</td>\n",
       "      <td>Customer</td>\n",
       "    </tr>\n",
       "    <tr>\n",
       "      <th>2</th>\n",
       "      <td>1094</td>\n",
       "      <td>NaN</td>\n",
       "      <td>45768</td>\n",
       "      <td>245.0</td>\n",
       "      <td>37.870348</td>\n",
       "      <td>-122.267764</td>\n",
       "      <td>Downtown Berkeley BART</td>\n",
       "      <td>2018-01-01 11:28:36.8830</td>\n",
       "      <td>NaN</td>\n",
       "      <td>NaN</td>\n",
       "      <td>NaN</td>\n",
       "      <td>245.0</td>\n",
       "      <td>37.870348</td>\n",
       "      <td>-122.267764</td>\n",
       "      <td>Downtown Berkeley BART</td>\n",
       "      <td>2017-12-31 22:45:48.4110</td>\n",
       "      <td>Customer</td>\n",
       "    </tr>\n",
       "    <tr>\n",
       "      <th>3</th>\n",
       "      <td>2831</td>\n",
       "      <td>NaN</td>\n",
       "      <td>62172</td>\n",
       "      <td>5.0</td>\n",
       "      <td>37.783899</td>\n",
       "      <td>-122.408445</td>\n",
       "      <td>Powell St BART Station (Market St at 5th St)</td>\n",
       "      <td>2018-01-01 10:47:23.5310</td>\n",
       "      <td>NaN</td>\n",
       "      <td>NaN</td>\n",
       "      <td>NaN</td>\n",
       "      <td>60.0</td>\n",
       "      <td>37.774520</td>\n",
       "      <td>-122.409449</td>\n",
       "      <td>8th St at Ringold St</td>\n",
       "      <td>2017-12-31 17:31:10.6360</td>\n",
       "      <td>Customer</td>\n",
       "    </tr>\n",
       "    <tr>\n",
       "      <th>4</th>\n",
       "      <td>3167</td>\n",
       "      <td>NaN</td>\n",
       "      <td>43603</td>\n",
       "      <td>247.0</td>\n",
       "      <td>37.867789</td>\n",
       "      <td>-122.265896</td>\n",
       "      <td>Fulton St at Bancroft Way</td>\n",
       "      <td>2018-01-01 02:29:57.5710</td>\n",
       "      <td>1997.0</td>\n",
       "      <td>Female</td>\n",
       "      <td>NaN</td>\n",
       "      <td>239.0</td>\n",
       "      <td>37.868813</td>\n",
       "      <td>-122.258764</td>\n",
       "      <td>Bancroft Way at Telegraph Ave</td>\n",
       "      <td>2017-12-31 14:23:14.0010</td>\n",
       "      <td>Subscriber</td>\n",
       "    </tr>\n",
       "  </tbody>\n",
       "</table>\n",
       "</div>"
      ],
      "text/plain": [
       "   bike_id bike_share_for_all_trip  duration_sec  end_station_id  \\\n",
       "0       96                     NaN         80110            43.0   \n",
       "1       88                     NaN         78800            96.0   \n",
       "2     1094                     NaN         45768           245.0   \n",
       "3     2831                     NaN         62172             5.0   \n",
       "4     3167                     NaN         43603           247.0   \n",
       "\n",
       "   end_station_latitude  end_station_longitude  \\\n",
       "0             37.778768            -122.415929   \n",
       "1             37.766210            -122.426614   \n",
       "2             37.870348            -122.267764   \n",
       "3             37.783899            -122.408445   \n",
       "4             37.867789            -122.265896   \n",
       "\n",
       "                                    end_station_name  \\\n",
       "0  San Francisco Public Library (Grove St at Hyde...   \n",
       "1                              Dolores St at 15th St   \n",
       "2                             Downtown Berkeley BART   \n",
       "3       Powell St BART Station (Market St at 5th St)   \n",
       "4                          Fulton St at Bancroft Way   \n",
       "\n",
       "                   end_time  member_birth_year member_gender  \\\n",
       "0  2018-01-01 15:12:50.2450             1987.0          Male   \n",
       "1  2018-01-01 13:49:55.6170             1965.0        Female   \n",
       "2  2018-01-01 11:28:36.8830                NaN           NaN   \n",
       "3  2018-01-01 10:47:23.5310                NaN           NaN   \n",
       "4  2018-01-01 02:29:57.5710             1997.0        Female   \n",
       "\n",
       "  rental_access_method  start_station_id  start_station_latitude  \\\n",
       "0                  NaN              74.0               37.776435   \n",
       "1                  NaN             284.0               37.784872   \n",
       "2                  NaN             245.0               37.870348   \n",
       "3                  NaN              60.0               37.774520   \n",
       "4                  NaN             239.0               37.868813   \n",
       "\n",
       "   start_station_longitude                                 start_station_name  \\\n",
       "0              -122.426244                              Laguna St at Hayes St   \n",
       "1              -122.400876  Yerba Buena Center for the Arts (Howard St at ...   \n",
       "2              -122.267764                             Downtown Berkeley BART   \n",
       "3              -122.409449                               8th St at Ringold St   \n",
       "4              -122.258764                      Bancroft Way at Telegraph Ave   \n",
       "\n",
       "                 start_time   user_type  \n",
       "0  2017-12-31 16:57:39.6540    Customer  \n",
       "1  2017-12-31 15:56:34.8420    Customer  \n",
       "2  2017-12-31 22:45:48.4110    Customer  \n",
       "3  2017-12-31 17:31:10.6360    Customer  \n",
       "4  2017-12-31 14:23:14.0010  Subscriber  "
      ]
     },
     "execution_count": 17,
     "metadata": {},
     "output_type": "execute_result"
    }
   ],
   "source": [
    "df_gobike_clean.head()"
   ]
  },
  {
   "cell_type": "code",
   "execution_count": 18,
   "metadata": {},
   "outputs": [],
   "source": [
    "drop_columns = ['start_station_name', 'end_station_name',\n",
    "                'start_station_latitude', 'end_station_latitude',\n",
    "               'start_station_longitude', 'end_station_longitude']\n",
    "df_gobike_clean.drop(drop_columns, axis=1, inplace=True)"
   ]
  },
  {
   "cell_type": "code",
   "execution_count": 19,
   "metadata": {},
   "outputs": [
    {
     "name": "stdout",
     "output_type": "stream",
     "text": [
      "no start station:  70563\n",
      "no end station:  72354\n"
     ]
    }
   ],
   "source": [
    "# how many trips don't have either start or end station id's?\n",
    "null_start_station = df_gobike_clean[df_gobike_clean.start_station_id.isnull()]\n",
    "null_end_station = df_gobike_clean[df_gobike_clean.end_station_id.isnull()]\n",
    "\n",
    "print ('no start station: ', len(null_start_station))\n",
    "print ('no end station: ', len(null_end_station))"
   ]
  },
  {
   "cell_type": "code",
   "execution_count": 21,
   "metadata": {},
   "outputs": [],
   "source": [
    "# for the overview purpose of our analysis these records are not worth repairing\n",
    "drop_stations = null_start_station.merge(null_end_station)\n",
    "df_gobike_clean.drop(drop_stations.index, inplace=True)"
   ]
  },
  {
   "cell_type": "markdown",
   "metadata": {},
   "source": [
    "### What is the structure of your dataset?\n",
    "Dataset contains information about individual bicycle rides. Most important fields are:\n",
    "- start station\n",
    "- end station\n",
    "- start time\n",
    "- end time\n",
    "- ride duration\n"
   ]
  },
  {
   "cell_type": "code",
   "execution_count": null,
   "metadata": {},
   "outputs": [],
   "source": [
    "df_gobike.info()"
   ]
  },
  {
   "cell_type": "code",
   "execution_count": null,
   "metadata": {},
   "outputs": [],
   "source": []
  },
  {
   "cell_type": "markdown",
   "metadata": {},
   "source": [
    "### What is/are the main feature(s) of interest in your dataset?\n",
    "\n",
    "- amount and duration of rides between specific stations\n",
    "\n",
    "potential questions:\n",
    "- most popular routes\n",
    "- fastest ride on the most popular route\n",
    "- slowest ride on the most popular route\n",
    "- most popular start and end times\n"
   ]
  },
  {
   "cell_type": "markdown",
   "metadata": {},
   "source": [
    "### What features in the dataset do you think will help support your investigation into your feature(s) of interest?\n",
    "\n",
    "> Your answer here!"
   ]
  },
  {
   "cell_type": "markdown",
   "metadata": {},
   "source": [
    "## Univariate Exploration\n",
    "\n",
    "> In this section, investigate distributions of individual variables. If\n",
    "you see unusual points or outliers, take a deeper look to clean things up\n",
    "and prepare yourself to look at relationships between variables."
   ]
  },
  {
   "cell_type": "code",
   "execution_count": null,
   "metadata": {},
   "outputs": [],
   "source": []
  },
  {
   "cell_type": "markdown",
   "metadata": {},
   "source": [
    "> Make sure that, after every plot or related series of plots, that you\n",
    "include a Markdown cell with comments about what you observed, and what\n",
    "you plan on investigating next."
   ]
  },
  {
   "cell_type": "code",
   "execution_count": null,
   "metadata": {},
   "outputs": [],
   "source": []
  },
  {
   "cell_type": "markdown",
   "metadata": {},
   "source": [
    "### Discuss the distribution(s) of your variable(s) of interest. Were there any unusual points? Did you need to perform any transformations?\n",
    "\n",
    "> Your answer here!\n",
    "\n",
    "### Of the features you investigated, were there any unusual distributions? Did you perform any operations on the data to tidy, adjust, or change the form of the data? If so, why did you do this?\n",
    "\n",
    "> Your answer here!"
   ]
  },
  {
   "cell_type": "markdown",
   "metadata": {},
   "source": [
    "## Bivariate Exploration\n",
    "\n",
    "> In this section, investigate relationships between pairs of variables in your\n",
    "data. Make sure the variables that you cover here have been introduced in some\n",
    "fashion in the previous section (univariate exploration)."
   ]
  },
  {
   "cell_type": "code",
   "execution_count": null,
   "metadata": {},
   "outputs": [],
   "source": []
  },
  {
   "cell_type": "markdown",
   "metadata": {},
   "source": [
    "### Talk about some of the relationships you observed in this part of the investigation. How did the feature(s) of interest vary with other features in the dataset?\n",
    "\n",
    "> Your answer here!\n",
    "\n",
    "### Did you observe any interesting relationships between the other features (not the main feature(s) of interest)?\n",
    "\n",
    "> Your answer here!"
   ]
  },
  {
   "cell_type": "markdown",
   "metadata": {},
   "source": [
    "## Multivariate Exploration\n",
    "\n",
    "> Create plots of three or more variables to investigate your data even\n",
    "further. Make sure that your investigations are justified, and follow from\n",
    "your work in the previous sections."
   ]
  },
  {
   "cell_type": "code",
   "execution_count": null,
   "metadata": {},
   "outputs": [],
   "source": []
  },
  {
   "cell_type": "markdown",
   "metadata": {},
   "source": [
    "### Talk about some of the relationships you observed in this part of the investigation. Were there features that strengthened each other in terms of looking at your feature(s) of interest?\n",
    "\n",
    "> Your answer here!\n",
    "\n",
    "### Were there any interesting or surprising interactions between features?\n",
    "\n",
    "> Your answer here!"
   ]
  },
  {
   "cell_type": "markdown",
   "metadata": {},
   "source": [
    "> At the end of your report, make sure that you export the notebook as an\n",
    "html file from the `File > Download as... > HTML` menu. Make sure you keep\n",
    "track of where the exported file goes, so you can put it in the same folder\n",
    "as this notebook for project submission. Also, make sure you remove all of\n",
    "the quote-formatted guide notes like this one before you finish your report!"
   ]
  },
  {
   "cell_type": "code",
   "execution_count": null,
   "metadata": {},
   "outputs": [],
   "source": []
  }
 ],
 "metadata": {
  "kernelspec": {
   "display_name": "Python 3",
   "language": "python",
   "name": "python3"
  },
  "language_info": {
   "codemirror_mode": {
    "name": "ipython",
    "version": 3
   },
   "file_extension": ".py",
   "mimetype": "text/x-python",
   "name": "python",
   "nbconvert_exporter": "python",
   "pygments_lexer": "ipython3",
   "version": "3.7.3"
  },
  "toc": {
   "base_numbering": 1,
   "nav_menu": {},
   "number_sections": true,
   "sideBar": true,
   "skip_h1_title": false,
   "title_cell": "Table of Contents",
   "title_sidebar": "Contents",
   "toc_cell": false,
   "toc_position": {
    "height": "47.05882263183594px",
    "left": "22.999996185302734px",
    "top": "52.444847106933594px",
    "width": "334.26470947265625px"
   },
   "toc_section_display": true,
   "toc_window_display": true
  }
 },
 "nbformat": 4,
 "nbformat_minor": 2
}
