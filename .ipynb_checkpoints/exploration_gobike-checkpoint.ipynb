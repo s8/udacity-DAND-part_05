{
 "cells": [
  {
   "cell_type": "markdown",
   "metadata": {},
   "source": [
    "**GoBike 2017-19 dataset exploration**\n",
    "\n",
    "by Konstantin Leonenko"
   ]
  },
  {
   "cell_type": "markdown",
   "metadata": {},
   "source": [
    "# Preliminary Wrangling\n",
    "\n",
    "> Briefly introduce your dataset here."
   ]
  },
  {
   "cell_type": "code",
   "execution_count": 1,
   "metadata": {},
   "outputs": [],
   "source": [
    "# import all packages and set plots to be embedded inline\n",
    "import numpy as np\n",
    "import pandas as pd\n",
    "import matplotlib.pyplot as plt\n",
    "from matplotlib.pyplot import figure\n",
    "import seaborn as sb\n",
    "import random\n",
    "\n",
    "%matplotlib inline"
   ]
  },
  {
   "cell_type": "markdown",
   "metadata": {},
   "source": [
    "## Load all the data from .csv files"
   ]
  },
  {
   "cell_type": "code",
   "execution_count": 2,
   "metadata": {
    "scrolled": true
   },
   "outputs": [
    {
     "name": "stderr",
     "output_type": "stream",
     "text": [
      "/Users/s8/anaconda3/lib/python3.7/site-packages/IPython/core/interactiveshell.py:3051: DtypeWarning: Columns (16) have mixed types. Specify dtype option on import or set low_memory=False.\n",
      "  interactivity=interactivity, compiler=compiler, result=result)\n",
      "/Users/s8/anaconda3/lib/python3.7/site-packages/IPython/core/interactiveshell.py:3051: DtypeWarning: Columns (15,16) have mixed types. Specify dtype option on import or set low_memory=False.\n",
      "  interactivity=interactivity, compiler=compiler, result=result)\n"
     ]
    }
   ],
   "source": [
    "gobike_2017 = pd.read_csv('data/gobike/2017-fordgobike-tripdata.csv')\n",
    "gobike_2018_01 = pd.read_csv('data/gobike/201801-fordgobike-tripdata.csv')\n",
    "gobike_2018_02 = pd.read_csv('data/gobike/201802-fordgobike-tripdata.csv')\n",
    "gobike_2018_03 = pd.read_csv('data/gobike/201803-fordgobike-tripdata.csv')\n",
    "gobike_2018_04 = pd.read_csv('data/gobike/201804-fordgobike-tripdata.csv')\n",
    "gobike_2018_05 = pd.read_csv('data/gobike/201805-fordgobike-tripdata.csv')\n",
    "gobike_2018_06 = pd.read_csv('data/gobike/201806-fordgobike-tripdata.csv')\n",
    "gobike_2018_07 = pd.read_csv('data/gobike/201807-fordgobike-tripdata.csv')\n",
    "gobike_2018_08 = pd.read_csv('data/gobike/201808-fordgobike-tripdata.csv')\n",
    "gobike_2018_09 = pd.read_csv('data/gobike/201809-fordgobike-tripdata.csv')\n",
    "gobike_2018_10 = pd.read_csv('data/gobike/201810-fordgobike-tripdata.csv')\n",
    "gobike_2018_11 = pd.read_csv('data/gobike/201811-fordgobike-tripdata.csv')\n",
    "gobike_2018_12 = pd.read_csv('data/gobike/201812-fordgobike-tripdata.csv')\n",
    "gobike_2019_01 = pd.read_csv('data/gobike/201901-fordgobike-tripdata.csv')\n",
    "gobike_2019_02 = pd.read_csv('data/gobike/201902-fordgobike-tripdata.csv')\n",
    "gobike_2019_03 = pd.read_csv('data/gobike/201903-fordgobike-tripdata.csv')\n",
    "gobike_2019_04 = pd.read_csv('data/gobike/201904-fordgobike-tripdata.csv')\n",
    "gobike_2019_05 = pd.read_csv('data/gobike/201905-baywheels-tripdata.csv')\n",
    "gobike_2019_06 = pd.read_csv('data/gobike/201906-baywheels-tripdata.csv')\n",
    "# in the july 2019 dataset values are separated by semicolons rather than commas\n",
    "gobike_2019_07 = pd.read_csv('data/gobike/201907-baywheels-tripdata.csv', delimiter = ';')\n",
    "gobike_2019_08 = pd.read_csv('data/gobike/201908-baywheels-tripdata.csv')\n",
    "gobike_2019_09 = pd.read_csv('data/gobike/201909-baywheels-tripdata.csv')\n",
    "gobike_2019_10 = pd.read_csv('data/gobike/201910-baywheels-tripdata.csv')\n"
   ]
  },
  {
   "cell_type": "markdown",
   "metadata": {},
   "source": [
    "## Merge all data into a single dataframe"
   ]
  },
  {
   "cell_type": "code",
   "execution_count": 3,
   "metadata": {},
   "outputs": [
    {
     "name": "stderr",
     "output_type": "stream",
     "text": [
      "/Users/s8/anaconda3/lib/python3.7/site-packages/pandas/core/frame.py:7138: FutureWarning: Sorting because non-concatenation axis is not aligned. A future version\n",
      "of pandas will change to not sort by default.\n",
      "\n",
      "To accept the future behavior, pass 'sort=False'.\n",
      "\n",
      "To retain the current behavior and silence the warning, pass 'sort=True'.\n",
      "\n",
      "  sort=sort,\n"
     ]
    }
   ],
   "source": [
    "df_gobike = pd.DataFrame(data = gobike_2017)\n",
    "df_gobike = df_gobike.append(gobike_2018_01)\n",
    "df_gobike = df_gobike.append(gobike_2018_02)\n",
    "df_gobike = df_gobike.append(gobike_2018_03)\n",
    "df_gobike = df_gobike.append(gobike_2018_04)\n",
    "df_gobike = df_gobike.append(gobike_2018_05)\n",
    "df_gobike = df_gobike.append(gobike_2018_06)\n",
    "df_gobike = df_gobike.append(gobike_2018_07)\n",
    "df_gobike = df_gobike.append(gobike_2018_08)\n",
    "df_gobike = df_gobike.append(gobike_2018_09)\n",
    "df_gobike = df_gobike.append(gobike_2018_10)\n",
    "df_gobike = df_gobike.append(gobike_2018_11)\n",
    "df_gobike = df_gobike.append(gobike_2018_12)\n",
    "df_gobike = df_gobike.append(gobike_2019_01)\n",
    "df_gobike = df_gobike.append(gobike_2019_02)\n",
    "df_gobike = df_gobike.append(gobike_2019_03)\n",
    "df_gobike = df_gobike.append(gobike_2019_04)\n",
    "df_gobike = df_gobike.append(gobike_2019_05)\n",
    "df_gobike = df_gobike.append(gobike_2019_06)\n",
    "df_gobike = df_gobike.append(gobike_2019_07)\n",
    "df_gobike = df_gobike.append(gobike_2019_08)\n",
    "df_gobike = df_gobike.append(gobike_2019_09)\n",
    "df_gobike = df_gobike.append(gobike_2019_10)"
   ]
  },
  {
   "cell_type": "code",
   "execution_count": 4,
   "metadata": {},
   "outputs": [
    {
     "data": {
      "text/plain": [
       "Index(['bike_id', 'bike_share_for_all_trip', 'duration_sec', 'end_station_id',\n",
       "       'end_station_latitude', 'end_station_longitude', 'end_station_name',\n",
       "       'end_time', 'member_birth_year', 'member_gender',\n",
       "       'rental_access_method', 'start_station_id', 'start_station_latitude',\n",
       "       'start_station_longitude', 'start_station_name', 'start_time',\n",
       "       'user_type'],\n",
       "      dtype='object')"
      ]
     },
     "execution_count": 4,
     "metadata": {},
     "output_type": "execute_result"
    }
   ],
   "source": [
    "df_gobike.columns"
   ]
  },
  {
   "cell_type": "code",
   "execution_count": 5,
   "metadata": {
    "scrolled": true
   },
   "outputs": [
    {
     "name": "stdout",
     "output_type": "stream",
     "text": [
      "<class 'pandas.core.frame.DataFrame'>\n",
      "Int64Index: 4554806 entries, 0 to 239894\n",
      "Data columns (total 17 columns):\n",
      "bike_id                    int64\n",
      "bike_share_for_all_trip    object\n",
      "duration_sec               int64\n",
      "end_station_id             float64\n",
      "end_station_latitude       float64\n",
      "end_station_longitude      float64\n",
      "end_station_name           object\n",
      "end_time                   object\n",
      "member_birth_year          float64\n",
      "member_gender              object\n",
      "rental_access_method       object\n",
      "start_station_id           float64\n",
      "start_station_latitude     float64\n",
      "start_station_longitude    float64\n",
      "start_station_name         object\n",
      "start_time                 object\n",
      "user_type                  object\n",
      "dtypes: float64(7), int64(2), object(8)\n",
      "memory usage: 625.5+ MB\n"
     ]
    }
   ],
   "source": [
    "df_gobike.info()"
   ]
  },
  {
   "cell_type": "code",
   "execution_count": 6,
   "metadata": {
    "scrolled": true
   },
   "outputs": [
    {
     "data": {
      "text/html": [
       "<div>\n",
       "<style scoped>\n",
       "    .dataframe tbody tr th:only-of-type {\n",
       "        vertical-align: middle;\n",
       "    }\n",
       "\n",
       "    .dataframe tbody tr th {\n",
       "        vertical-align: top;\n",
       "    }\n",
       "\n",
       "    .dataframe thead th {\n",
       "        text-align: right;\n",
       "    }\n",
       "</style>\n",
       "<table border=\"1\" class=\"dataframe\">\n",
       "  <thead>\n",
       "    <tr style=\"text-align: right;\">\n",
       "      <th></th>\n",
       "      <th>bike_id</th>\n",
       "      <th>bike_share_for_all_trip</th>\n",
       "      <th>duration_sec</th>\n",
       "      <th>end_station_id</th>\n",
       "      <th>end_station_latitude</th>\n",
       "      <th>end_station_longitude</th>\n",
       "      <th>end_station_name</th>\n",
       "      <th>end_time</th>\n",
       "      <th>member_birth_year</th>\n",
       "      <th>member_gender</th>\n",
       "      <th>rental_access_method</th>\n",
       "      <th>start_station_id</th>\n",
       "      <th>start_station_latitude</th>\n",
       "      <th>start_station_longitude</th>\n",
       "      <th>start_station_name</th>\n",
       "      <th>start_time</th>\n",
       "      <th>user_type</th>\n",
       "    </tr>\n",
       "  </thead>\n",
       "  <tbody>\n",
       "    <tr>\n",
       "      <th>0</th>\n",
       "      <td>96</td>\n",
       "      <td>NaN</td>\n",
       "      <td>80110</td>\n",
       "      <td>43.0</td>\n",
       "      <td>37.778768</td>\n",
       "      <td>-122.415929</td>\n",
       "      <td>San Francisco Public Library (Grove St at Hyde...</td>\n",
       "      <td>2018-01-01 15:12:50.2450</td>\n",
       "      <td>1987.0</td>\n",
       "      <td>Male</td>\n",
       "      <td>NaN</td>\n",
       "      <td>74.0</td>\n",
       "      <td>37.776435</td>\n",
       "      <td>-122.426244</td>\n",
       "      <td>Laguna St at Hayes St</td>\n",
       "      <td>2017-12-31 16:57:39.6540</td>\n",
       "      <td>Customer</td>\n",
       "    </tr>\n",
       "    <tr>\n",
       "      <th>1</th>\n",
       "      <td>88</td>\n",
       "      <td>NaN</td>\n",
       "      <td>78800</td>\n",
       "      <td>96.0</td>\n",
       "      <td>37.766210</td>\n",
       "      <td>-122.426614</td>\n",
       "      <td>Dolores St at 15th St</td>\n",
       "      <td>2018-01-01 13:49:55.6170</td>\n",
       "      <td>1965.0</td>\n",
       "      <td>Female</td>\n",
       "      <td>NaN</td>\n",
       "      <td>284.0</td>\n",
       "      <td>37.784872</td>\n",
       "      <td>-122.400876</td>\n",
       "      <td>Yerba Buena Center for the Arts (Howard St at ...</td>\n",
       "      <td>2017-12-31 15:56:34.8420</td>\n",
       "      <td>Customer</td>\n",
       "    </tr>\n",
       "    <tr>\n",
       "      <th>2</th>\n",
       "      <td>1094</td>\n",
       "      <td>NaN</td>\n",
       "      <td>45768</td>\n",
       "      <td>245.0</td>\n",
       "      <td>37.870348</td>\n",
       "      <td>-122.267764</td>\n",
       "      <td>Downtown Berkeley BART</td>\n",
       "      <td>2018-01-01 11:28:36.8830</td>\n",
       "      <td>NaN</td>\n",
       "      <td>NaN</td>\n",
       "      <td>NaN</td>\n",
       "      <td>245.0</td>\n",
       "      <td>37.870348</td>\n",
       "      <td>-122.267764</td>\n",
       "      <td>Downtown Berkeley BART</td>\n",
       "      <td>2017-12-31 22:45:48.4110</td>\n",
       "      <td>Customer</td>\n",
       "    </tr>\n",
       "    <tr>\n",
       "      <th>3</th>\n",
       "      <td>2831</td>\n",
       "      <td>NaN</td>\n",
       "      <td>62172</td>\n",
       "      <td>5.0</td>\n",
       "      <td>37.783899</td>\n",
       "      <td>-122.408445</td>\n",
       "      <td>Powell St BART Station (Market St at 5th St)</td>\n",
       "      <td>2018-01-01 10:47:23.5310</td>\n",
       "      <td>NaN</td>\n",
       "      <td>NaN</td>\n",
       "      <td>NaN</td>\n",
       "      <td>60.0</td>\n",
       "      <td>37.774520</td>\n",
       "      <td>-122.409449</td>\n",
       "      <td>8th St at Ringold St</td>\n",
       "      <td>2017-12-31 17:31:10.6360</td>\n",
       "      <td>Customer</td>\n",
       "    </tr>\n",
       "    <tr>\n",
       "      <th>4</th>\n",
       "      <td>3167</td>\n",
       "      <td>NaN</td>\n",
       "      <td>43603</td>\n",
       "      <td>247.0</td>\n",
       "      <td>37.867789</td>\n",
       "      <td>-122.265896</td>\n",
       "      <td>Fulton St at Bancroft Way</td>\n",
       "      <td>2018-01-01 02:29:57.5710</td>\n",
       "      <td>1997.0</td>\n",
       "      <td>Female</td>\n",
       "      <td>NaN</td>\n",
       "      <td>239.0</td>\n",
       "      <td>37.868813</td>\n",
       "      <td>-122.258764</td>\n",
       "      <td>Bancroft Way at Telegraph Ave</td>\n",
       "      <td>2017-12-31 14:23:14.0010</td>\n",
       "      <td>Subscriber</td>\n",
       "    </tr>\n",
       "  </tbody>\n",
       "</table>\n",
       "</div>"
      ],
      "text/plain": [
       "   bike_id bike_share_for_all_trip  duration_sec  end_station_id  \\\n",
       "0       96                     NaN         80110            43.0   \n",
       "1       88                     NaN         78800            96.0   \n",
       "2     1094                     NaN         45768           245.0   \n",
       "3     2831                     NaN         62172             5.0   \n",
       "4     3167                     NaN         43603           247.0   \n",
       "\n",
       "   end_station_latitude  end_station_longitude  \\\n",
       "0             37.778768            -122.415929   \n",
       "1             37.766210            -122.426614   \n",
       "2             37.870348            -122.267764   \n",
       "3             37.783899            -122.408445   \n",
       "4             37.867789            -122.265896   \n",
       "\n",
       "                                    end_station_name  \\\n",
       "0  San Francisco Public Library (Grove St at Hyde...   \n",
       "1                              Dolores St at 15th St   \n",
       "2                             Downtown Berkeley BART   \n",
       "3       Powell St BART Station (Market St at 5th St)   \n",
       "4                          Fulton St at Bancroft Way   \n",
       "\n",
       "                   end_time  member_birth_year member_gender  \\\n",
       "0  2018-01-01 15:12:50.2450             1987.0          Male   \n",
       "1  2018-01-01 13:49:55.6170             1965.0        Female   \n",
       "2  2018-01-01 11:28:36.8830                NaN           NaN   \n",
       "3  2018-01-01 10:47:23.5310                NaN           NaN   \n",
       "4  2018-01-01 02:29:57.5710             1997.0        Female   \n",
       "\n",
       "  rental_access_method  start_station_id  start_station_latitude  \\\n",
       "0                  NaN              74.0               37.776435   \n",
       "1                  NaN             284.0               37.784872   \n",
       "2                  NaN             245.0               37.870348   \n",
       "3                  NaN              60.0               37.774520   \n",
       "4                  NaN             239.0               37.868813   \n",
       "\n",
       "   start_station_longitude                                 start_station_name  \\\n",
       "0              -122.426244                              Laguna St at Hayes St   \n",
       "1              -122.400876  Yerba Buena Center for the Arts (Howard St at ...   \n",
       "2              -122.267764                             Downtown Berkeley BART   \n",
       "3              -122.409449                               8th St at Ringold St   \n",
       "4              -122.258764                      Bancroft Way at Telegraph Ave   \n",
       "\n",
       "                 start_time   user_type  \n",
       "0  2017-12-31 16:57:39.6540    Customer  \n",
       "1  2017-12-31 15:56:34.8420    Customer  \n",
       "2  2017-12-31 22:45:48.4110    Customer  \n",
       "3  2017-12-31 17:31:10.6360    Customer  \n",
       "4  2017-12-31 14:23:14.0010  Subscriber  "
      ]
     },
     "execution_count": 6,
     "metadata": {},
     "output_type": "execute_result"
    }
   ],
   "source": [
    "df_gobike.head()"
   ]
  },
  {
   "cell_type": "code",
   "execution_count": 7,
   "metadata": {},
   "outputs": [
    {
     "name": "stdout",
     "output_type": "stream",
     "text": [
      "bike_id  :  0\n",
      "bike_share_for_all_trip  :  611447\n",
      "duration_sec  :  0\n",
      "end_station_id  :  72354\n",
      "end_station_latitude  :  0\n",
      "end_station_longitude  :  0\n",
      "end_station_name  :  71804\n",
      "end_time  :  0\n",
      "member_birth_year  :  432245\n",
      "member_gender  :  419016\n",
      "rental_access_method  :  4463059\n",
      "start_station_id  :  70563\n",
      "start_station_latitude  :  0\n",
      "start_station_longitude  :  0\n",
      "start_station_name  :  69967\n",
      "start_time  :  0\n",
      "user_type  :  0\n"
     ]
    }
   ],
   "source": [
    "# let's quickly see how much data is missing from the dataset\n",
    "for i in df_gobike.columns:\n",
    "    print (i, ' : ', len(df_gobike[df_gobike[i].isnull()]))"
   ]
  },
  {
   "cell_type": "markdown",
   "metadata": {},
   "source": [
    "mainly it's data about station id's and names. According to the rules of tidy data we should move the information about the stations, such as location, name, etc. into a separate table, and only keep trip start and end station id's in the dataset. "
   ]
  },
  {
   "cell_type": "markdown",
   "metadata": {},
   "source": [
    "## Extract station geographical information into a separate dataframe"
   ]
  },
  {
   "cell_type": "code",
   "execution_count": 8,
   "metadata": {},
   "outputs": [],
   "source": [
    "# let's extract start and end station information\n",
    "df_start_stations = df_gobike[['start_station_id','start_station_latitude','start_station_longitude','start_station_name']]\n",
    "df_end_stations =  df_gobike[['end_station_id','end_station_latitude','end_station_longitude','end_station_name']]\n",
    "# start and end information belongs in the rides table, not in the station table.\n",
    "# let's just merge these\n",
    "df_start_stations = df_start_stations.rename(columns={'start_station_id':'station_id', 'start_station_latitude':'latitude','start_station_longitude':'longitude','start_station_name':'name'})\n",
    "df_end_stations = df_end_stations.rename(columns={'end_station_id':'station_id', 'end_station_latitude':'latitude','end_station_longitude':'longitude','end_station_name':'name'})\n",
    "df_stations = df_start_stations.append(df_end_stations)"
   ]
  },
  {
   "cell_type": "code",
   "execution_count": 9,
   "metadata": {},
   "outputs": [
    {
     "data": {
      "text/html": [
       "<div>\n",
       "<style scoped>\n",
       "    .dataframe tbody tr th:only-of-type {\n",
       "        vertical-align: middle;\n",
       "    }\n",
       "\n",
       "    .dataframe tbody tr th {\n",
       "        vertical-align: top;\n",
       "    }\n",
       "\n",
       "    .dataframe thead th {\n",
       "        text-align: right;\n",
       "    }\n",
       "</style>\n",
       "<table border=\"1\" class=\"dataframe\">\n",
       "  <thead>\n",
       "    <tr style=\"text-align: right;\">\n",
       "      <th></th>\n",
       "      <th>station_id</th>\n",
       "      <th>latitude</th>\n",
       "      <th>longitude</th>\n",
       "      <th>name</th>\n",
       "    </tr>\n",
       "  </thead>\n",
       "  <tbody>\n",
       "    <tr>\n",
       "      <th>0</th>\n",
       "      <td>74.0</td>\n",
       "      <td>37.776435</td>\n",
       "      <td>-122.426244</td>\n",
       "      <td>Laguna St at Hayes St</td>\n",
       "    </tr>\n",
       "    <tr>\n",
       "      <th>1</th>\n",
       "      <td>284.0</td>\n",
       "      <td>37.784872</td>\n",
       "      <td>-122.400876</td>\n",
       "      <td>Yerba Buena Center for the Arts (Howard St at ...</td>\n",
       "    </tr>\n",
       "    <tr>\n",
       "      <th>2</th>\n",
       "      <td>245.0</td>\n",
       "      <td>37.870348</td>\n",
       "      <td>-122.267764</td>\n",
       "      <td>Downtown Berkeley BART</td>\n",
       "    </tr>\n",
       "    <tr>\n",
       "      <th>3</th>\n",
       "      <td>60.0</td>\n",
       "      <td>37.774520</td>\n",
       "      <td>-122.409449</td>\n",
       "      <td>8th St at Ringold St</td>\n",
       "    </tr>\n",
       "    <tr>\n",
       "      <th>4</th>\n",
       "      <td>239.0</td>\n",
       "      <td>37.868813</td>\n",
       "      <td>-122.258764</td>\n",
       "      <td>Bancroft Way at Telegraph Ave</td>\n",
       "    </tr>\n",
       "  </tbody>\n",
       "</table>\n",
       "</div>"
      ],
      "text/plain": [
       "   station_id   latitude   longitude  \\\n",
       "0        74.0  37.776435 -122.426244   \n",
       "1       284.0  37.784872 -122.400876   \n",
       "2       245.0  37.870348 -122.267764   \n",
       "3        60.0  37.774520 -122.409449   \n",
       "4       239.0  37.868813 -122.258764   \n",
       "\n",
       "                                                name  \n",
       "0                              Laguna St at Hayes St  \n",
       "1  Yerba Buena Center for the Arts (Howard St at ...  \n",
       "2                             Downtown Berkeley BART  \n",
       "3                               8th St at Ringold St  \n",
       "4                      Bancroft Way at Telegraph Ave  "
      ]
     },
     "execution_count": 9,
     "metadata": {},
     "output_type": "execute_result"
    }
   ],
   "source": [
    "df_stations.head()"
   ]
  },
  {
   "cell_type": "code",
   "execution_count": 10,
   "metadata": {},
   "outputs": [
    {
     "name": "stdout",
     "output_type": "stream",
     "text": [
      "<class 'pandas.core.frame.DataFrame'>\n",
      "Int64Index: 9109612 entries, 0 to 239894\n",
      "Data columns (total 4 columns):\n",
      "station_id    float64\n",
      "latitude      float64\n",
      "longitude     float64\n",
      "name          object\n",
      "dtypes: float64(3), object(1)\n",
      "memory usage: 347.5+ MB\n"
     ]
    }
   ],
   "source": [
    "df_stations.info()"
   ]
  },
  {
   "cell_type": "code",
   "execution_count": 11,
   "metadata": {},
   "outputs": [
    {
     "name": "stdout",
     "output_type": "stream",
     "text": [
      "unique station ids:  427\n",
      "unique station names:  459\n",
      "total entries:  9109612\n"
     ]
    }
   ],
   "source": [
    "# how many unique station id's are there?\n",
    "print ('unique station ids: ', df_stations.station_id.nunique())\n",
    "print ('unique station names: ', df_stations.name.nunique())\n",
    "print ('total entries: ', len(df_stations))"
   ]
  },
  {
   "cell_type": "code",
   "execution_count": 12,
   "metadata": {},
   "outputs": [],
   "source": [
    "# make a copy of the stations dataframe before cleaning\n",
    "df_stations_clean = df_stations.copy()"
   ]
  },
  {
   "cell_type": "code",
   "execution_count": 13,
   "metadata": {},
   "outputs": [],
   "source": [
    "# save stations with no id into a separate dataframe and remove them from the main station dataframe\n",
    "df_null_stations = df_stations_clean[df_stations_clean.station_id.isnull()]\n",
    "df_stations_clean.drop(df_null_stations.index, inplace=True)"
   ]
  },
  {
   "cell_type": "code",
   "execution_count": 14,
   "metadata": {},
   "outputs": [
    {
     "data": {
      "text/plain": [
       "0"
      ]
     },
     "execution_count": 14,
     "metadata": {},
     "output_type": "execute_result"
    }
   ],
   "source": [
    "# check whether the data was removed\n",
    "len(df_stations_clean[df_stations_clean.station_id.isnull()])"
   ]
  },
  {
   "cell_type": "code",
   "execution_count": 15,
   "metadata": {},
   "outputs": [],
   "source": [
    "# cast station id's from floats into ints\n",
    "df_stations_clean.station_id = df_stations_clean.station_id.astype(int)"
   ]
  },
  {
   "cell_type": "code",
   "execution_count": 16,
   "metadata": {},
   "outputs": [],
   "source": [
    "# aggregate stations around station_id field\n",
    "df_stations_clean = df_stations_clean.groupby('station_id', as_index=False).agg({\n",
    "    'latitude':'mean', 'longitude':'mean', 'name':set})"
   ]
  },
  {
   "cell_type": "code",
   "execution_count": 17,
   "metadata": {},
   "outputs": [
    {
     "data": {
      "text/plain": [
       "Index(['station_id', 'latitude', 'longitude', 'name'], dtype='object')"
      ]
     },
     "execution_count": 17,
     "metadata": {},
     "output_type": "execute_result"
    }
   ],
   "source": [
    "df_stations_clean.columns"
   ]
  },
  {
   "cell_type": "markdown",
   "metadata": {},
   "source": [
    "To get a better understanding of station usage - let's put total amount of ride starts and ends per station into the df_stations dataset."
   ]
  },
  {
   "cell_type": "code",
   "execution_count": 18,
   "metadata": {},
   "outputs": [],
   "source": [
    "df_stations_clean['starts'] = df_gobike.groupby('start_station_id', as_index=False).agg( 'count')['bike_id']\n",
    "df_stations_clean['ends'] = df_gobike.groupby('end_station_id', as_index=False).agg('count')['bike_id']\n",
    "\n",
    "df_stations_clean['starts'] = df_stations_clean['starts'].fillna(0).astype(float)\n",
    "df_stations_clean['ends'] = df_stations_clean['ends'].fillna(0).astype(float)\n"
   ]
  },
  {
   "cell_type": "code",
   "execution_count": 19,
   "metadata": {
    "scrolled": false
   },
   "outputs": [
    {
     "data": {
      "text/html": [
       "<div>\n",
       "<style scoped>\n",
       "    .dataframe tbody tr th:only-of-type {\n",
       "        vertical-align: middle;\n",
       "    }\n",
       "\n",
       "    .dataframe tbody tr th {\n",
       "        vertical-align: top;\n",
       "    }\n",
       "\n",
       "    .dataframe thead th {\n",
       "        text-align: right;\n",
       "    }\n",
       "</style>\n",
       "<table border=\"1\" class=\"dataframe\">\n",
       "  <thead>\n",
       "    <tr style=\"text-align: right;\">\n",
       "      <th></th>\n",
       "      <th>station_id</th>\n",
       "      <th>latitude</th>\n",
       "      <th>longitude</th>\n",
       "      <th>name</th>\n",
       "      <th>starts</th>\n",
       "      <th>ends</th>\n",
       "    </tr>\n",
       "  </thead>\n",
       "  <tbody>\n",
       "    <tr>\n",
       "      <th>0</th>\n",
       "      <td>3</td>\n",
       "      <td>37.786375</td>\n",
       "      <td>-122.404904</td>\n",
       "      <td>{Powell St BART Station (Market St at 4th St)}</td>\n",
       "      <td>72173.0</td>\n",
       "      <td>76349.0</td>\n",
       "    </tr>\n",
       "    <tr>\n",
       "      <th>1</th>\n",
       "      <td>4</td>\n",
       "      <td>37.785881</td>\n",
       "      <td>-122.408915</td>\n",
       "      <td>{Cyril Magnin St at Ellis St}</td>\n",
       "      <td>14926.0</td>\n",
       "      <td>14967.0</td>\n",
       "    </tr>\n",
       "    <tr>\n",
       "      <th>2</th>\n",
       "      <td>5</td>\n",
       "      <td>37.783899</td>\n",
       "      <td>-122.408445</td>\n",
       "      <td>{Powell St BART Station (Market St at 5th St)}</td>\n",
       "      <td>59997.0</td>\n",
       "      <td>62238.0</td>\n",
       "    </tr>\n",
       "    <tr>\n",
       "      <th>3</th>\n",
       "      <td>6</td>\n",
       "      <td>37.804770</td>\n",
       "      <td>-122.403234</td>\n",
       "      <td>{The Embarcadero at Sansome St}</td>\n",
       "      <td>72832.0</td>\n",
       "      <td>85649.0</td>\n",
       "    </tr>\n",
       "    <tr>\n",
       "      <th>4</th>\n",
       "      <td>7</td>\n",
       "      <td>37.804562</td>\n",
       "      <td>-122.271738</td>\n",
       "      <td>{Frank H Ogawa Plaza}</td>\n",
       "      <td>20518.0</td>\n",
       "      <td>20278.0</td>\n",
       "    </tr>\n",
       "  </tbody>\n",
       "</table>\n",
       "</div>"
      ],
      "text/plain": [
       "   station_id   latitude   longitude  \\\n",
       "0           3  37.786375 -122.404904   \n",
       "1           4  37.785881 -122.408915   \n",
       "2           5  37.783899 -122.408445   \n",
       "3           6  37.804770 -122.403234   \n",
       "4           7  37.804562 -122.271738   \n",
       "\n",
       "                                             name   starts     ends  \n",
       "0  {Powell St BART Station (Market St at 4th St)}  72173.0  76349.0  \n",
       "1                   {Cyril Magnin St at Ellis St}  14926.0  14967.0  \n",
       "2  {Powell St BART Station (Market St at 5th St)}  59997.0  62238.0  \n",
       "3                 {The Embarcadero at Sansome St}  72832.0  85649.0  \n",
       "4                           {Frank H Ogawa Plaza}  20518.0  20278.0  "
      ]
     },
     "execution_count": 19,
     "metadata": {},
     "output_type": "execute_result"
    }
   ],
   "source": [
    "df_stations_clean.head()"
   ]
  },
  {
   "cell_type": "markdown",
   "metadata": {},
   "source": [
    "## Clean the rides dataframe\n",
    "Now that we have station info stored in an efficient dictionary - let's remove station specific data from the main dataset"
   ]
  },
  {
   "cell_type": "code",
   "execution_count": 20,
   "metadata": {},
   "outputs": [],
   "source": [
    "# before cleaning - make a copy of the dataset\n",
    "df_rides = df_gobike.copy()"
   ]
  },
  {
   "cell_type": "markdown",
   "metadata": {},
   "source": [
    "Now that all station-specific information is stored separately - we don't need it in out dataframe."
   ]
  },
  {
   "cell_type": "code",
   "execution_count": 21,
   "metadata": {},
   "outputs": [],
   "source": [
    "drop_columns = ['start_station_name', 'end_station_name',\n",
    "                'start_station_latitude', 'end_station_latitude',\n",
    "               'start_station_longitude', 'end_station_longitude']\n",
    "df_rides.drop(drop_columns, axis=1, inplace=True)"
   ]
  },
  {
   "cell_type": "code",
   "execution_count": 22,
   "metadata": {},
   "outputs": [
    {
     "name": "stdout",
     "output_type": "stream",
     "text": [
      "<class 'pandas.core.frame.DataFrame'>\n",
      "Int64Index: 4554806 entries, 0 to 239894\n",
      "Data columns (total 11 columns):\n",
      "bike_id                    int64\n",
      "bike_share_for_all_trip    object\n",
      "duration_sec               int64\n",
      "end_station_id             float64\n",
      "end_time                   object\n",
      "member_birth_year          float64\n",
      "member_gender              object\n",
      "rental_access_method       object\n",
      "start_station_id           float64\n",
      "start_time                 object\n",
      "user_type                  object\n",
      "dtypes: float64(3), int64(2), object(6)\n",
      "memory usage: 417.0+ MB\n"
     ]
    }
   ],
   "source": [
    "df_rides.info()"
   ]
  },
  {
   "cell_type": "code",
   "execution_count": 23,
   "metadata": {
    "scrolled": true
   },
   "outputs": [
    {
     "name": "stdout",
     "output_type": "stream",
     "text": [
      "no start station:  70563\n",
      "no end station:  72354\n"
     ]
    }
   ],
   "source": [
    "# how many trips don't have either start or end station id's?\n",
    "null_start_station = df_rides[df_rides.start_station_id.isnull()]\n",
    "null_end_station = df_rides[df_rides.end_station_id.isnull()]\n",
    "\n",
    "print ('no start station: ', len(null_start_station))\n",
    "print ('no end station: ', len(null_end_station))"
   ]
  },
  {
   "cell_type": "code",
   "execution_count": 24,
   "metadata": {},
   "outputs": [
    {
     "data": {
      "text/plain": [
       "85954"
      ]
     },
     "execution_count": 24,
     "metadata": {},
     "output_type": "execute_result"
    }
   ],
   "source": [
    "drop_stations = null_start_station.merge(null_end_station, how='outer')\n",
    "len(drop_stations)"
   ]
  },
  {
   "cell_type": "code",
   "execution_count": 25,
   "metadata": {},
   "outputs": [],
   "source": [
    "# for the overview purpose of our analysis these records are not worth repairing\n",
    "df_rides.dropna(subset=['start_station_id', 'end_station_id'],inplace=True)"
   ]
  },
  {
   "cell_type": "code",
   "execution_count": 26,
   "metadata": {},
   "outputs": [
    {
     "name": "stdout",
     "output_type": "stream",
     "text": [
      "<class 'pandas.core.frame.DataFrame'>\n",
      "Int64Index: 4468852 entries, 0 to 239894\n",
      "Data columns (total 11 columns):\n",
      "bike_id                    int64\n",
      "bike_share_for_all_trip    object\n",
      "duration_sec               int64\n",
      "end_station_id             float64\n",
      "end_time                   object\n",
      "member_birth_year          float64\n",
      "member_gender              object\n",
      "rental_access_method       object\n",
      "start_station_id           float64\n",
      "start_time                 object\n",
      "user_type                  object\n",
      "dtypes: float64(3), int64(2), object(6)\n",
      "memory usage: 409.1+ MB\n"
     ]
    }
   ],
   "source": [
    "df_rides.info()"
   ]
  },
  {
   "cell_type": "markdown",
   "metadata": {},
   "source": [
    "Station ID's in the dataframe are floats, whereas they're better represented as ints."
   ]
  },
  {
   "cell_type": "code",
   "execution_count": 27,
   "metadata": {},
   "outputs": [],
   "source": [
    "df_rides.start_station_id = df_rides.start_station_id.astype(int)\n",
    "df_rides.end_station_id = df_rides.end_station_id.astype(int)"
   ]
  },
  {
   "cell_type": "markdown",
   "metadata": {},
   "source": [
    "#### Convert time columns into proper datetime format"
   ]
  },
  {
   "cell_type": "code",
   "execution_count": 28,
   "metadata": {},
   "outputs": [],
   "source": [
    "df_rides.start_time = pd.to_datetime(df_rides.start_time)\n",
    "df_rides.end_time = pd.to_datetime(df_rides.end_time)"
   ]
  },
  {
   "cell_type": "markdown",
   "metadata": {},
   "source": [
    "#### Personal / social information in the dataset.\n",
    "\n",
    "Information regarding gender, age and customer type contained in the dataset is very limited and can lead to drawing very biased conclusions about social tendencies of users. Therefore, for the purposes of this analysis I would like to remove this data to avoid jumping to potentially very divisive demographic observations. In this analysis I would L to focus entirely on the patterns of transportation rather than any social or human factors, like access method or bike share. Therefore I will remove irrelevat columns from the dataset. "
   ]
  },
  {
   "cell_type": "code",
   "execution_count": 29,
   "metadata": {},
   "outputs": [],
   "source": [
    "df_rides.drop (['member_gender', 'member_birth_year', 'user_type', \n",
    "                'rental_access_method','bike_share_for_all_trip'], axis=1, inplace=True)"
   ]
  },
  {
   "cell_type": "code",
   "execution_count": 30,
   "metadata": {},
   "outputs": [
    {
     "data": {
      "text/html": [
       "<div>\n",
       "<style scoped>\n",
       "    .dataframe tbody tr th:only-of-type {\n",
       "        vertical-align: middle;\n",
       "    }\n",
       "\n",
       "    .dataframe tbody tr th {\n",
       "        vertical-align: top;\n",
       "    }\n",
       "\n",
       "    .dataframe thead th {\n",
       "        text-align: right;\n",
       "    }\n",
       "</style>\n",
       "<table border=\"1\" class=\"dataframe\">\n",
       "  <thead>\n",
       "    <tr style=\"text-align: right;\">\n",
       "      <th></th>\n",
       "      <th>bike_id</th>\n",
       "      <th>duration_sec</th>\n",
       "      <th>end_station_id</th>\n",
       "      <th>end_time</th>\n",
       "      <th>start_station_id</th>\n",
       "      <th>start_time</th>\n",
       "    </tr>\n",
       "  </thead>\n",
       "  <tbody>\n",
       "    <tr>\n",
       "      <th>0</th>\n",
       "      <td>96</td>\n",
       "      <td>80110</td>\n",
       "      <td>43</td>\n",
       "      <td>2018-01-01 15:12:50.245</td>\n",
       "      <td>74</td>\n",
       "      <td>2017-12-31 16:57:39.654</td>\n",
       "    </tr>\n",
       "    <tr>\n",
       "      <th>1</th>\n",
       "      <td>88</td>\n",
       "      <td>78800</td>\n",
       "      <td>96</td>\n",
       "      <td>2018-01-01 13:49:55.617</td>\n",
       "      <td>284</td>\n",
       "      <td>2017-12-31 15:56:34.842</td>\n",
       "    </tr>\n",
       "    <tr>\n",
       "      <th>2</th>\n",
       "      <td>1094</td>\n",
       "      <td>45768</td>\n",
       "      <td>245</td>\n",
       "      <td>2018-01-01 11:28:36.883</td>\n",
       "      <td>245</td>\n",
       "      <td>2017-12-31 22:45:48.411</td>\n",
       "    </tr>\n",
       "    <tr>\n",
       "      <th>3</th>\n",
       "      <td>2831</td>\n",
       "      <td>62172</td>\n",
       "      <td>5</td>\n",
       "      <td>2018-01-01 10:47:23.531</td>\n",
       "      <td>60</td>\n",
       "      <td>2017-12-31 17:31:10.636</td>\n",
       "    </tr>\n",
       "    <tr>\n",
       "      <th>4</th>\n",
       "      <td>3167</td>\n",
       "      <td>43603</td>\n",
       "      <td>247</td>\n",
       "      <td>2018-01-01 02:29:57.571</td>\n",
       "      <td>239</td>\n",
       "      <td>2017-12-31 14:23:14.001</td>\n",
       "    </tr>\n",
       "  </tbody>\n",
       "</table>\n",
       "</div>"
      ],
      "text/plain": [
       "   bike_id  duration_sec  end_station_id                end_time  \\\n",
       "0       96         80110              43 2018-01-01 15:12:50.245   \n",
       "1       88         78800              96 2018-01-01 13:49:55.617   \n",
       "2     1094         45768             245 2018-01-01 11:28:36.883   \n",
       "3     2831         62172               5 2018-01-01 10:47:23.531   \n",
       "4     3167         43603             247 2018-01-01 02:29:57.571   \n",
       "\n",
       "   start_station_id              start_time  \n",
       "0                74 2017-12-31 16:57:39.654  \n",
       "1               284 2017-12-31 15:56:34.842  \n",
       "2               245 2017-12-31 22:45:48.411  \n",
       "3                60 2017-12-31 17:31:10.636  \n",
       "4               239 2017-12-31 14:23:14.001  "
      ]
     },
     "execution_count": 30,
     "metadata": {},
     "output_type": "execute_result"
    }
   ],
   "source": [
    "df_rides.head()"
   ]
  },
  {
   "cell_type": "markdown",
   "metadata": {},
   "source": [
    "### What is the structure of your dataset?\n",
    "\n",
    "Dataset contains information about individual bicycle rides together with station geographic information.\n"
   ]
  },
  {
   "cell_type": "markdown",
   "metadata": {},
   "source": [
    "### What is/are the main feature(s) of interest in your dataset?\n",
    "\n",
    "I'm interested in seeing bike and station usage patterns over times of the day and days of the week.\n"
   ]
  },
  {
   "cell_type": "markdown",
   "metadata": {},
   "source": [
    "### What features in the dataset do you think will help support your investigation into your feature(s) of interest?\n",
    "\n",
    "Most important fields for my analysis are:\n",
    "- start station\n",
    "- end station\n",
    "- start time\n",
    "- end time\n",
    "- ride duration"
   ]
  },
  {
   "cell_type": "markdown",
   "metadata": {},
   "source": [
    "## Univariate Exploration"
   ]
  },
  {
   "cell_type": "code",
   "execution_count": 31,
   "metadata": {},
   "outputs": [],
   "source": [
    "# set the base color for the plots\n",
    "base_color = sb.color_palette()[0]\n",
    "secondary_color = sb.color_palette()[1]\n",
    "tertiary_color = sb.color_palette()[2]"
   ]
  },
  {
   "cell_type": "code",
   "execution_count": 32,
   "metadata": {
    "scrolled": true
   },
   "outputs": [
    {
     "data": {
      "image/png": "[encoded data removed]",
      "text/plain": [
       "<Figure size 432x288 with 1 Axes>"
      ]
     },
     "metadata": {
      "needs_background": "light"
     },
     "output_type": "display_data"
    }
   ],
   "source": [
    "# what do trip durations look like in our dataset\n",
    "sb.distplot(df_rides.duration_sec);"
   ]
  },
  {
   "cell_type": "markdown",
   "metadata": {},
   "source": [
    "The distribution is clearly unimodal and heavily right-skewed.\n",
    "There are some heavy outliers - probably forgotten returns.\n",
    "Let's replot the data zooming into the peak"
   ]
  },
  {
   "cell_type": "code",
   "execution_count": 33,
   "metadata": {
    "scrolled": false
   },
   "outputs": [
    {
     "data": {
      "image/png": "[encoded data removed]",
      "text/plain": [
       "<Figure size 432x288 with 2 Axes>"
      ]
     },
     "metadata": {
      "needs_background": "light"
     },
     "output_type": "display_data"
    }
   ],
   "source": [
    "plt.subplot(1,2,1);\n",
    "sb.distplot(df_rides.duration_sec,1000);\n",
    "plt.xlim(0,10000);\n",
    "plt.subplot(1,2,2);\n",
    "sb.distplot(df_rides.duration_sec,1000);\n",
    "plt.xlim(0,1000);"
   ]
  },
  {
   "cell_type": "markdown",
   "metadata": {},
   "source": [
    "The peak is around 400 seconds, which makes sense for the bike ride.\n",
    "Now let's look at the overall station popularity."
   ]
  },
  {
   "cell_type": "code",
   "execution_count": 34,
   "metadata": {
    "scrolled": false
   },
   "outputs": [
    {
     "data": {
      "image/png": "[encoded data removed]",
      "text/plain": [
       "<Figure size 1440x720 with 1 Axes>"
      ]
     },
     "metadata": {
      "needs_background": "light"
     },
     "output_type": "display_data"
    }
   ],
   "source": [
    "plt.figure(figsize=(20,10))\n",
    "sb.barplot(data=df_stations_clean, x='station_id', y='ends', color = secondary_color, alpha=0.5);\n",
    "sb.barplot(data=df_stations_clean, x='station_id', y='starts', color = base_color, alpha=0.5);\n",
    "plt.xticks([]);"
   ]
  },
  {
   "cell_type": "markdown",
   "metadata": {},
   "source": [
    "Judging by the grey color of the plot - on average the start and end stations popularity is well balanced, however colored bar tips tell us that some stations have more starts and some - more ends.\n",
    "\n",
    "Let's try to identify single most popular destination."
   ]
  },
  {
   "cell_type": "code",
   "execution_count": 35,
   "metadata": {},
   "outputs": [
    {
     "data": {
      "text/html": [
       "<div>\n",
       "<style scoped>\n",
       "    .dataframe tbody tr th:only-of-type {\n",
       "        vertical-align: middle;\n",
       "    }\n",
       "\n",
       "    .dataframe tbody tr th {\n",
       "        vertical-align: top;\n",
       "    }\n",
       "\n",
       "    .dataframe thead th {\n",
       "        text-align: right;\n",
       "    }\n",
       "</style>\n",
       "<table border=\"1\" class=\"dataframe\">\n",
       "  <thead>\n",
       "    <tr style=\"text-align: right;\">\n",
       "      <th></th>\n",
       "      <th>station_id</th>\n",
       "      <th>latitude</th>\n",
       "      <th>longitude</th>\n",
       "      <th>name</th>\n",
       "      <th>starts</th>\n",
       "      <th>ends</th>\n",
       "    </tr>\n",
       "  </thead>\n",
       "  <tbody>\n",
       "    <tr>\n",
       "      <th>62</th>\n",
       "      <td>67</td>\n",
       "      <td>37.776639</td>\n",
       "      <td>-122.395526</td>\n",
       "      <td>{San Francisco Caltrain Station 2  (Townsend S...</td>\n",
       "      <td>86248.0</td>\n",
       "      <td>115804.0</td>\n",
       "    </tr>\n",
       "  </tbody>\n",
       "</table>\n",
       "</div>"
      ],
      "text/plain": [
       "    station_id   latitude   longitude  \\\n",
       "62          67  37.776639 -122.395526   \n",
       "\n",
       "                                                 name   starts      ends  \n",
       "62  {San Francisco Caltrain Station 2  (Townsend S...  86248.0  115804.0  "
      ]
     },
     "execution_count": 35,
     "metadata": {},
     "output_type": "execute_result"
    }
   ],
   "source": [
    "df_stations_clean.query('ends > 110000')"
   ]
  },
  {
   "cell_type": "markdown",
   "metadata": {},
   "source": [
    "It's the San Francisco Caltrain Station. Let's see what's the time pattern for arriving at this location."
   ]
  },
  {
   "cell_type": "code",
   "execution_count": null,
   "metadata": {},
   "outputs": [],
   "source": [
    "train_station_arrival_hours = df_rides.query('end_station_id == 67').end_time.apply(lambda x: x.hour)\n",
    "sb.countplot(x=train_station_arrival_hours, data=df_rides);"
   ]
  },
  {
   "cell_type": "markdown",
   "metadata": {},
   "source": [
    "It seems that most rides arrive here at the end of the day. Looks like bike+train is a popular end-of-the-day commute option.\n",
    "\n",
    "Further - let's look at the overall distributions of ride start and end times."
   ]
  },
  {
   "cell_type": "code",
   "execution_count": null,
   "metadata": {},
   "outputs": [],
   "source": [
    "plt.subplot(1,2,1)\n",
    "sb.countplot(x=df_rides.start_time.apply(lambda x: x.hour), data=df_rides);\n",
    "plt.subplot(1,2,2)\n",
    "sb.countplot(x=df_rides.end_time.apply(lambda x: x.hour), data=df_rides);"
   ]
  },
  {
   "cell_type": "markdown",
   "metadata": {},
   "source": [
    "Start times and end times seem generally well-aligned. It's even possible to see end times peaks being slighly later than start times."
   ]
  },
  {
   "cell_type": "markdown",
   "metadata": {},
   "source": [
    "### Discuss the distribution(s) of your variable(s) of interest. Were there any unusual points? Did you need to perform any transformations?\n",
    "\n",
    "Distributions observed in this exploration, were ride duration, station popularity (start and end) and ride start times. \n",
    "\n",
    "Ride duration was a unimodal, heavily right-skewed distribution with peak at around 400 seconds, which shows that a 15-minute ride is the most popular kind of use for this bike sharing service. \n",
    "\n",
    "Station popularity was mapped with station id's mapped along the x-axis. This resulted in a rather noisy, but well-defined right-skewed distribution. This is somewhat surprising to see how much popular lower station id's are. This goes to show that, if id's reflect historical pattern of installing stations - that either the prior market research was very successful that resulted in covering most popular locations first, or that service adoption grew steadily with the availability of the service at the location. Historic data on station installation would be required to draw further conclusions.\n",
    "\n",
    "Ride times is a bi-modal distribution with peaks at 8am and 17pm aligned perfectly with the start and end of a typical workday. The tail tapering off in an exponential curve after 17pm shows how service is used primarily to reach home destinations from work and probably party locations later. \n",
    "\n",
    "### Of the features you investigated, were there any unusual distributions? Did you perform any operations on the data to tidy, adjust, or change the form of the data? If so, why did you do this?\n",
    "\n",
    "The unusual thing about distributions observed was how perfectly they reflected common sense assumptions about the use of such service in a busy city - how well they mapped on central stations being busier and overall use mapping perfectly onto a busy work day schedule.\n",
    "\n",
    "To tidy the data I separated the dataset in two: one containing information about the stations and the other one - information about the rides. This follows the rule of tidy data make is easier to work with geographic station information later on.\n"
   ]
  },
  {
   "cell_type": "markdown",
   "metadata": {},
   "source": [
    "## Bivariate Exploration"
   ]
  },
  {
   "cell_type": "markdown",
   "metadata": {},
   "source": [
    "It would be interesting to see if there are any patterns behind the use of stations to pick up or return the bicycles."
   ]
  },
  {
   "cell_type": "code",
   "execution_count": null,
   "metadata": {
    "scrolled": false
   },
   "outputs": [],
   "source": [
    "sample = np.random.choice(df_rides.shape[0],200000, replace = False);\n",
    "sample = df_rides.loc[sample];\n",
    "plt.figure(figsize=(20,20))\n",
    "plt.scatter(data = sample, x = 'start_station_id', y = 'end_station_id', alpha=1, s=0.1);"
   ]
  },
  {
   "cell_type": "markdown",
   "metadata": {},
   "source": [
    "From this visualization it is clear that:\n",
    "* Travel patterns are clustered around very specific groups of stations. \n",
    "* Roundtrips, where start and end stations are the same are quite popular. \n",
    "* Plot is very symmetrical along the diagonal, which means a lot of bikes go back to the same stations they were picked up from\n",
    "\n",
    "For now let's look at roundtrips, where bikes are picked up and dropped off at the same station and compare their durations with the random sample of the same size from the whole dataset."
   ]
  },
  {
   "cell_type": "code",
   "execution_count": null,
   "metadata": {},
   "outputs": [],
   "source": [
    "# make a dataframe with roundtrips only\n",
    "df_roundtrips = df_rides.query('start_station_id == end_station_id')"
   ]
  },
  {
   "cell_type": "code",
   "execution_count": null,
   "metadata": {},
   "outputs": [],
   "source": [
    "df_roundtrips.shape"
   ]
  },
  {
   "cell_type": "code",
   "execution_count": null,
   "metadata": {},
   "outputs": [],
   "source": [
    "rides_sample = np.random.choice(df_rides.shape[0],122230, replace = False);\n",
    "rides_sample = df_rides.loc[rides_sample];\n",
    "\n",
    "plt.figure(figsize=(20,20))\n",
    "\n",
    "plt.scatter(data = df_roundtrips, x = 'start_station_id', y = 'duration_sec', alpha=1, s=1);\n",
    "plt.scatter(data = rides_sample, x = 'start_station_id', y = 'duration_sec', alpha=1, s=1, color=secondary_color);\n",
    "\n",
    "plt.legend(['Round trip','Normal']);"
   ]
  },
  {
   "cell_type": "code",
   "execution_count": null,
   "metadata": {},
   "outputs": [],
   "source": [
    "print ('overall ride duration mean:   ', df_rides.duration_sec.mean())\n",
    "print ('roundtrip ride duration mean: ', df_roundtrips.duration_sec.mean())"
   ]
  },
  {
   "cell_type": "markdown",
   "metadata": {},
   "source": [
    "Plot above as well as mean calculation clearly shows that roundtrips are usually around 3 times longer than A-B rides.\n",
    "\n",
    "Now let's look at the geographical spread of the stations."
   ]
  },
  {
   "cell_type": "code",
   "execution_count": null,
   "metadata": {
    "scrolled": true
   },
   "outputs": [],
   "source": [
    "plt.scatter(data = df_stations_clean, x = 'longitude', y = 'latitude', )\n",
    "plt.xlim(-122.6,-121.8)\n",
    "plt.ylim(37.15,38)"
   ]
  },
  {
   "cell_type": "markdown",
   "metadata": {},
   "source": [
    "there seems to be four distinct clusters of stations. Let's look at them separately."
   ]
  },
  {
   "cell_type": "code",
   "execution_count": null,
   "metadata": {
    "scrolled": false
   },
   "outputs": [],
   "source": [
    "# San Francisco, Berkeley and Oakland\n",
    "plt.figure(figsize=(20,20))\n",
    "plt.scatter(data = df_stations_clean, x = 'longitude', y = 'latitude', )\n",
    "plt.xlim(-122.5,-122.15)\n",
    "plt.ylim(37.7,37.9)"
   ]
  },
  {
   "cell_type": "code",
   "execution_count": null,
   "metadata": {
    "scrolled": false
   },
   "outputs": [],
   "source": [
    "# San Jose and Palo Alto\n",
    "plt.figure(figsize=(20,20))\n",
    "plt.scatter(data = df_stations_clean, x = 'longitude', y = 'latitude', )\n",
    "plt.xlim(-121.95,-121.8)\n",
    "plt.ylim(37.25,37.4)"
   ]
  },
  {
   "cell_type": "markdown",
   "metadata": {},
   "source": [
    "There seems to be one station isolated from the cluster. Let's see if that's a data quality issue."
   ]
  },
  {
   "cell_type": "code",
   "execution_count": null,
   "metadata": {},
   "outputs": [],
   "source": [
    "df_stations_clean.query('latitude < 37.28').query('longitude > -121.84')"
   ]
  },
  {
   "cell_type": "markdown",
   "metadata": {},
   "source": [
    "Apart from the test depot - there is only one station. Quick search on the map revelas that this is a large park on the southern end of San Jose. Let's see use pattern of this station."
   ]
  },
  {
   "cell_type": "code",
   "execution_count": null,
   "metadata": {},
   "outputs": [],
   "source": [
    "print ('ride starts: ', len (df_rides.query('end_station_id == 374')))\n",
    "print ('ride ends: ', len (df_rides.query('start_station_id == 374')))"
   ]
  },
  {
   "cell_type": "markdown",
   "metadata": {},
   "source": [
    "This doesn't seem to be a very popular station, which is likely to be due to it being isolated from the rest of the infrastructure."
   ]
  },
  {
   "cell_type": "markdown",
   "metadata": {},
   "source": [
    "### Talk about some of the relationships you observed in this part of the investigation. How did the feature(s) of interest vary with other features in the dataset?\n",
    "\n",
    "About 2.7% of all rides are roudntrips that start and finish at the same station. Their duration is on average 300% that of a normal a-b ride.\n",
    "\n",
    "Mapping start and finish stations to a scatterplot it became clear that most of the rides are concentrated in distinct clusters that seem to map onto the way the station infrastructure has been deployed. "
   ]
  },
  {
   "cell_type": "markdown",
   "metadata": {},
   "source": [
    "## Multivariate Exploration\n",
    "\n",
    "> Create plots of three or more variables to investigate your data even\n",
    "further. Make sure that your investigations are justified, and follow from\n",
    "your work in the previous sections."
   ]
  },
  {
   "cell_type": "markdown",
   "metadata": {},
   "source": [
    "Let's identify the most popular stations in the network."
   ]
  },
  {
   "cell_type": "code",
   "execution_count": null,
   "metadata": {},
   "outputs": [],
   "source": [
    "df_rides.head()"
   ]
  },
  {
   "cell_type": "code",
   "execution_count": null,
   "metadata": {},
   "outputs": [],
   "source": [
    "starts = df_rides.groupby('start_station_id', as_index=False).agg('count')\n",
    "ends = df_rides.groupby('end_station_id', as_index=False).agg('count')"
   ]
  },
  {
   "cell_type": "code",
   "execution_count": null,
   "metadata": {
    "scrolled": false
   },
   "outputs": [],
   "source": [
    "# San Francisco and Berkeley \n",
    "plt.figure(figsize=(20,20))\n",
    "plt.scatter(data = df_stations_clean, x = 'longitude', y = 'latitude', s=df_stations_clean['starts']**0.5, alpha=0.5)\n",
    "plt.scatter(data = df_stations_clean, x = 'longitude', y = 'latitude', s=df_stations_clean['ends']**0.5, color=secondary_color, alpha=0.5)\n",
    "plt.xlim(-122.5,-122.15)\n",
    "plt.ylim(37.7,37.9)"
   ]
  },
  {
   "cell_type": "markdown",
   "metadata": {},
   "source": [
    "It seems that in San Francisco and Berkeley there are two particular stations - one with lots of starts and the other one with lots of ends. Let's take a closer look at them."
   ]
  },
  {
   "cell_type": "code",
   "execution_count": null,
   "metadata": {
    "scrolled": true
   },
   "outputs": [],
   "source": [
    "df_stations_clean.query('starts-ends > 10000')"
   ]
  },
  {
   "cell_type": "code",
   "execution_count": null,
   "metadata": {
    "scrolled": true
   },
   "outputs": [],
   "source": [
    "df_stations_clean.query('ends-starts > 20000')"
   ]
  },
  {
   "cell_type": "markdown",
   "metadata": {},
   "source": [
    "Again - we can see that the train statio is the most popular bike 'sink'.\n",
    "\n",
    "Station with more starts rather than ends is located next to Berkley University as well as the stadium in northern part of Berkley. Judging by the time use histogram - the bikes are mainly used to leave the place at the end of a work day."
   ]
  },
  {
   "cell_type": "code",
   "execution_count": null,
   "metadata": {
    "scrolled": true
   },
   "outputs": [],
   "source": [
    "berkley_departure_hours = df_rides.query('start_station_id == 243').start_time.apply(lambda x: x.hour)\n",
    "sb.countplot(x=stadium_departure_hours, data=df_rides);"
   ]
  },
  {
   "cell_type": "code",
   "execution_count": null,
   "metadata": {},
   "outputs": [],
   "source": [
    "bikes = df_rides.groupby('bike_id', as_index=False).agg({'start_station_id':list, 'end_station_id':list,'start_time':list,'end_time':list,'duration_sec':list})"
   ]
  },
  {
   "cell_type": "code",
   "execution_count": null,
   "metadata": {},
   "outputs": [],
   "source": [
    "bikes['count'] = df_rides.groupby('bike_id', as_index=False).agg('count')['start_station_id']"
   ]
  },
  {
   "cell_type": "code",
   "execution_count": null,
   "metadata": {},
   "outputs": [],
   "source": [
    "bikes.head()"
   ]
  },
  {
   "cell_type": "code",
   "execution_count": null,
   "metadata": {},
   "outputs": [],
   "source": [
    "bikes.query('count > 1800')"
   ]
  },
  {
   "cell_type": "code",
   "execution_count": null,
   "metadata": {},
   "outputs": [],
   "source": [
    "bike_2174 = bikes.loc[2153]"
   ]
  },
  {
   "cell_type": "code",
   "execution_count": null,
   "metadata": {},
   "outputs": [],
   "source": [
    "plt.subplot(1,2,1)\n",
    "sb.countplot(x='start_station_id', data=bike_2153, color=base_color);\n",
    "plt.xticks([]);\n",
    "plt.subplot(1,2,2)\n",
    "sb.barplot(data=df_stations_clean, x='station_id', y='ends', color = secondary_color);\n",
    "plt.xticks([]);"
   ]
  },
  {
   "cell_type": "code",
   "execution_count": null,
   "metadata": {},
   "outputs": [],
   "source": [
    "bike_2174_weekdays = []\n",
    "for i in bike_2174.start_time:\n",
    "    bike_2174_weekdays.append(i.weekday())"
   ]
  },
  {
   "cell_type": "code",
   "execution_count": null,
   "metadata": {},
   "outputs": [],
   "source": [
    "plt.hist(bike_2174_weekdays)"
   ]
  },
  {
   "cell_type": "markdown",
   "metadata": {},
   "source": [
    "Interesting that in the broad general tendendcies, use pattern of the single most used bike is resembling use patterns of all the bikes acrosst the network. Also interesting to see that it has travelled across the whole network rather than staying in a particular area."
   ]
  },
  {
   "cell_type": "markdown",
   "metadata": {},
   "source": [
    "### Talk about some of the relationships you observed in this part of the investigation. Were there features that strengthened each other in terms of looking at your feature(s) of interest?\n",
    "\n",
    "It was interesting to see that the bicycle network is mostly well balanced, i.e. most of the stations act as both - starts and ends for the ride. There is a only small amount of mainly 'sink' stations.\n",
    "\n",
    "\n",
    "### Were there any interesting or surprising interactions between features?\n",
    "\n",
    "Once "
   ]
  },
  {
   "cell_type": "markdown",
   "metadata": {},
   "source": [
    "> At the end of your report, make sure that you export the notebook as an\n",
    "html file from the `File > Download as... > HTML` menu. Make sure you keep\n",
    "track of where the exported file goes, so you can put it in the same folder\n",
    "as this notebook for project submission. Also, make sure you remove all of\n",
    "the quote-formatted guide notes like this one before you finish your report!"
   ]
  },
  {
   "cell_type": "code",
   "execution_count": null,
   "metadata": {},
   "outputs": [],
   "source": []
  }
 ],
 "metadata": {
  "kernelspec": {
   "display_name": "Python 3",
   "language": "python",
   "name": "python3"
  },
  "language_info": {
   "codemirror_mode": {
    "name": "ipython",
    "version": 3
   },
   "file_extension": ".py",
   "mimetype": "text/x-python",
   "name": "python",
   "nbconvert_exporter": "python",
   "pygments_lexer": "ipython3",
   "version": "3.7.3"
  },
  "toc": {
   "base_numbering": 1,
   "nav_menu": {},
   "number_sections": true,
   "sideBar": false,
   "skip_h1_title": false,
   "title_cell": "Table of Contents",
   "title_sidebar": "Contents",
   "toc_cell": false,
   "toc_position": {
    "height": "47.05882263183594px",
    "left": "166.99998474121094px",
    "top": "53.6029052734375px",
    "width": "316.5440979003906px"
   },
   "toc_section_display": true,
   "toc_window_display": true
  }
 },
 "nbformat": 4,
 "nbformat_minor": 2
}
