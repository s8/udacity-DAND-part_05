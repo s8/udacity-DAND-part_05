{
 "cells": [
  {
   "cell_type": "markdown",
   "metadata": {},
   "source": [
    "# Lesson 4: Birvariate Exploration of Data\n",
    "\n",
    "## Line plots\n",
    "\n",
    "* Line emphasizes relative change (rather than bars). Zero on the y-axis is not necessary;\n",
    "* Line emphasizes connections on the x-axis. Inappropriate to use line if we have a nominal variable on the x-axis;\n",
    "* Line plot showing changes over time is called **Time Series Plot**\n",
    "\n",
    "``sb.pointplot``\n",
    "``sb.errorbar``"
   ]
  },
  {
   "cell_type": "code",
   "execution_count": null,
   "metadata": {},
   "outputs": [],
   "source": []
  }
 ],
 "metadata": {
  "kernelspec": {
   "display_name": "Python 3",
   "language": "python",
   "name": "python3"
  },
  "language_info": {
   "codemirror_mode": {
    "name": "ipython",
    "version": 3
   },
   "file_extension": ".py",
   "mimetype": "text/x-python",
   "name": "python",
   "nbconvert_exporter": "python",
   "pygments_lexer": "ipython3",
   "version": "3.7.3"
  },
  "toc": {
   "base_numbering": 1,
   "nav_menu": {},
   "number_sections": true,
   "sideBar": true,
   "skip_h1_title": false,
   "title_cell": "Table of Contents",
   "title_sidebar": "Contents",
   "toc_cell": false,
   "toc_position": {},
   "toc_section_display": true,
   "toc_window_display": true
  }
 },
 "nbformat": 4,
 "nbformat_minor": 2
}
