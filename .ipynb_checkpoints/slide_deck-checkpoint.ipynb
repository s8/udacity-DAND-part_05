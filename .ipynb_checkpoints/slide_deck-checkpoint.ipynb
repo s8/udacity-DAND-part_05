{
 "cells": [
  {
   "cell_type": "markdown",
   "metadata": {
    "slideshow": {
     "slide_type": "slide"
    }
   },
   "source": [
    "# Exploration of the GoBike dataset\n",
    "## by Konstantin Leonenko"
   ]
  },
  {
   "cell_type": "markdown",
   "metadata": {
    "slideshow": {
     "slide_type": "slide"
    }
   },
   "source": [
    "## Investigation Overview\n",
    "\n",
    "In this investigation I wanted to see how the load is spread across the bike sharing network.\n",
    "\n",
    "## Dataset Overview\n",
    "\n",
    "Dataset represents almost three years (2017-2019) of records of bike trips across the GoBike network deployed in the SanFrancisco bay area. Information included bike id, start and end station locations and times as well as rider's gender, age and client type."
   ]
  },
  {
   "cell_type": "code",
   "execution_count": 1,
   "metadata": {
    "slideshow": {
     "slide_type": "skip"
    }
   },
   "outputs": [],
   "source": [
    "# import all packages and set plots to be embedded inline\n",
    "import numpy as np\n",
    "import pandas as pd\n",
    "import matplotlib.pyplot as plt\n",
    "from matplotlib.pyplot import figure\n",
    "import seaborn as sb\n",
    "import random\n",
    "\n",
    "%matplotlib inline\n",
    "\n",
    "# suppress warnings from final output\n",
    "import warnings\n",
    "warnings.simplefilter(\"ignore\")"
   ]
  },
  {
   "cell_type": "code",
   "execution_count": 2,
   "metadata": {
    "slideshow": {
     "slide_type": "skip"
    }
   },
   "outputs": [],
   "source": [
    "# load in the dataset into a pandas dataframe\n",
    "gobike_2017 = pd.read_csv('data/gobike/2017-fordgobike-tripdata.csv')\n",
    "gobike_2018_01 = pd.read_csv('data/gobike/201801-fordgobike-tripdata.csv')\n",
    "gobike_2018_02 = pd.read_csv('data/gobike/201802-fordgobike-tripdata.csv')\n",
    "gobike_2018_03 = pd.read_csv('data/gobike/201803-fordgobike-tripdata.csv')\n",
    "gobike_2018_04 = pd.read_csv('data/gobike/201804-fordgobike-tripdata.csv')\n",
    "gobike_2018_05 = pd.read_csv('data/gobike/201805-fordgobike-tripdata.csv')\n",
    "gobike_2018_06 = pd.read_csv('data/gobike/201806-fordgobike-tripdata.csv')\n",
    "gobike_2018_07 = pd.read_csv('data/gobike/201807-fordgobike-tripdata.csv')\n",
    "gobike_2018_08 = pd.read_csv('data/gobike/201808-fordgobike-tripdata.csv')\n",
    "gobike_2018_09 = pd.read_csv('data/gobike/201809-fordgobike-tripdata.csv')\n",
    "gobike_2018_10 = pd.read_csv('data/gobike/201810-fordgobike-tripdata.csv')\n",
    "gobike_2018_11 = pd.read_csv('data/gobike/201811-fordgobike-tripdata.csv')\n",
    "gobike_2018_12 = pd.read_csv('data/gobike/201812-fordgobike-tripdata.csv')\n",
    "gobike_2019_01 = pd.read_csv('data/gobike/201901-fordgobike-tripdata.csv')\n",
    "gobike_2019_02 = pd.read_csv('data/gobike/201902-fordgobike-tripdata.csv')\n",
    "gobike_2019_03 = pd.read_csv('data/gobike/201903-fordgobike-tripdata.csv')\n",
    "gobike_2019_04 = pd.read_csv('data/gobike/201904-fordgobike-tripdata.csv')\n",
    "gobike_2019_05 = pd.read_csv('data/gobike/201905-baywheels-tripdata.csv')\n",
    "gobike_2019_06 = pd.read_csv('data/gobike/201906-baywheels-tripdata.csv')\n",
    "# in the july 2019 dataset values are separated by semicolons rather than commas\n",
    "gobike_2019_07 = pd.read_csv('data/gobike/201907-baywheels-tripdata.csv', delimiter = ';')\n",
    "gobike_2019_08 = pd.read_csv('data/gobike/201908-baywheels-tripdata.csv')\n",
    "gobike_2019_09 = pd.read_csv('data/gobike/201909-baywheels-tripdata.csv')\n",
    "gobike_2019_10 = pd.read_csv('data/gobike/201910-baywheels-tripdata.csv')\n",
    "df_gobike = pd.DataFrame(data = gobike_2017)\n",
    "df_gobike = df_gobike.append(gobike_2018_01)\n",
    "df_gobike = df_gobike.append(gobike_2018_02)\n",
    "df_gobike = df_gobike.append(gobike_2018_03)\n",
    "df_gobike = df_gobike.append(gobike_2018_04)\n",
    "df_gobike = df_gobike.append(gobike_2018_05)\n",
    "df_gobike = df_gobike.append(gobike_2018_06)\n",
    "df_gobike = df_gobike.append(gobike_2018_07)\n",
    "df_gobike = df_gobike.append(gobike_2018_08)\n",
    "df_gobike = df_gobike.append(gobike_2018_09)\n",
    "df_gobike = df_gobike.append(gobike_2018_10)\n",
    "df_gobike = df_gobike.append(gobike_2018_11)\n",
    "df_gobike = df_gobike.append(gobike_2018_12)\n",
    "df_gobike = df_gobike.append(gobike_2019_01)\n",
    "df_gobike = df_gobike.append(gobike_2019_02)\n",
    "df_gobike = df_gobike.append(gobike_2019_03)\n",
    "df_gobike = df_gobike.append(gobike_2019_04)\n",
    "df_gobike = df_gobike.append(gobike_2019_05)\n",
    "df_gobike = df_gobike.append(gobike_2019_06)\n",
    "df_gobike = df_gobike.append(gobike_2019_07)\n",
    "df_gobike = df_gobike.append(gobike_2019_08)\n",
    "df_gobike = df_gobike.append(gobike_2019_09)\n",
    "df_gobike = df_gobike.append(gobike_2019_10)\n",
    "\n"
   ]
  },
  {
   "cell_type": "code",
   "execution_count": 3,
   "metadata": {
    "slideshow": {
     "slide_type": "skip"
    }
   },
   "outputs": [],
   "source": [
    "# let's extract start and end station information\n",
    "df_start_stations = df_gobike[['start_station_id','start_station_latitude','start_station_longitude','start_station_name']]\n",
    "df_end_stations =  df_gobike[['end_station_id','end_station_latitude','end_station_longitude','end_station_name']]\n",
    "# start and end information belongs in the rides table, not in the station table.\n",
    "# let's just merge these\n",
    "df_start_stations = df_start_stations.rename(columns={'start_station_id':'station_id', 'start_station_latitude':'latitude','start_station_longitude':'longitude','start_station_name':'name'})\n",
    "df_end_stations = df_end_stations.rename(columns={'end_station_id':'station_id', 'end_station_latitude':'latitude','end_station_longitude':'longitude','end_station_name':'name'})\n",
    "df_stations = df_start_stations.append(df_end_stations)\n",
    "\n",
    "# make a copy of the stations dataframe before proceeding with cleaning\n",
    "df_stations_clean = df_stations.copy()\n",
    "\n",
    "df_null_stations = df_stations_clean[df_stations_clean.station_id.isnull()]\n",
    "df_stations_clean.drop(df_null_stations.index, inplace=True)\n",
    "df_stations_clean.station_id = df_stations_clean.station_id.astype(int)\n",
    "\n",
    "\n",
    "# make a copy of the gobike dataset before proceeding cleaning it\n",
    "df_rides = df_gobike.copy()\n",
    "\n",
    "df_stations_clean['starts'] = df_rides.groupby('start_station_id', as_index=False).agg( 'count')['bike_id']\n",
    "df_stations_clean['ends'] = df_rides.groupby('end_station_id', as_index=False).agg('count')['bike_id']\n",
    "\n",
    "df_stations_clean['starts'] = df_stations_clean['starts'].fillna(0).astype(float)\n",
    "df_stations_clean['ends'] = df_stations_clean['ends'].fillna(0).astype(float)\n",
    "\n",
    "drop_columns = ['start_station_name', 'end_station_name',\n",
    "                'start_station_latitude', 'end_station_latitude',\n",
    "               'start_station_longitude', 'end_station_longitude']\n",
    "df_rides.drop(drop_columns, axis=1, inplace=True)\n",
    "\n",
    "# how many trips don't have either start or end station id's?\n",
    "null_start_station = df_rides[df_rides.start_station_id.isnull()]\n",
    "null_end_station = df_rides[df_rides.end_station_id.isnull()]\n",
    "drop_stations = null_start_station.merge(null_end_station, how='outer')\n",
    "\n",
    "df_rides.dropna(subset=['start_station_id', 'end_station_id'],inplace=True)\n",
    "\n",
    "df_rides.start_station_id = df_rides.start_station_id.astype(int)\n",
    "df_rides.end_station_id = df_rides.end_station_id.astype(int)\n",
    "\n",
    "df_rides.start_time = pd.to_datetime(df_rides.start_time)\n",
    "df_rides.end_time = pd.to_datetime(df_rides.end_time)\n",
    "\n",
    "df_rides.drop (['member_gender', 'member_birth_year', 'user_type', \n",
    "                'rental_access_method','bike_share_for_all_trip'], axis=1, inplace=True)\n",
    "\n",
    "base_color = sb.color_palette()[0]\n",
    "secondary_color = sb.color_palette()[1]\n",
    "tertiary_color = sb.color_palette()[2]"
   ]
  },
  {
   "cell_type": "markdown",
   "metadata": {
    "slideshow": {
     "slide_type": "notes"
    }
   },
   "source": [
    "> Note that the above cells have been set as \"Skip\"-type slides. That means\n",
    "that when the notebook is rendered as http slides, those cells won't show up."
   ]
  },
  {
   "cell_type": "markdown",
   "metadata": {
    "slideshow": {
     "slide_type": "slide"
    }
   },
   "source": [
    "## Ride Duration\n",
    "\n",
    "As a first step - let's look at the distribution of ride durations. The distribution is clearly unimodal, sharply right-skewed with the center around 400 seconds. This is in line with common sense expectation of a bike ride being approximately 15 minutes long."
   ]
  },
  {
   "cell_type": "code",
   "execution_count": 4,
   "metadata": {
    "slideshow": {
     "slide_type": "subslide"
    }
   },
   "outputs": [
    {
     "data": {
      "image/png": "[encoded data removed]",
      "text/plain": [
       "<Figure size 1440x720 with 1 Axes>"
      ]
     },
     "metadata": {
      "needs_background": "light"
     },
     "output_type": "display_data"
    }
   ],
   "source": [
    "plt.figure(figsize=(20,10))\n",
    "sb.distplot(df_rides.duration_sec,1000,kde=False);\n",
    "plt.xlim(0,6000);\n",
    "plt.xticks(np.arange(0,6000,200));"
   ]
  },
  {
   "cell_type": "markdown",
   "metadata": {
    "collapsed": true,
    "slideshow": {
     "slide_type": "slide"
    }
   },
   "source": [
    "## Station start/end balance\n",
    "\n",
    "From the overall grey color of the plot - it looks like on average the start and end stations popularity is mostly well balanced, however colored bar tips tell us that some stations have more starts and some - more ends."
   ]
  },
  {
   "cell_type": "code",
   "execution_count": 14,
   "metadata": {
    "scrolled": true,
    "slideshow": {
     "slide_type": "slide"
    }
   },
   "outputs": [
    {
     "data": {
      "image/png": "[encoded data removed]",
      "text/plain": [
       "<Figure size 1440x720 with 1 Axes>"
      ]
     },
     "metadata": {
      "needs_background": "light"
     },
     "output_type": "display_data"
    }
   ],
   "source": [
    "plt.figure(figsize=(20,10))\n",
    "sb.barplot(data=df_stations_clean, x='station_id', y='ends', color = secondary_color, alpha=0.5);\n",
    "sb.barplot(data=df_stations_clean, x='station_id', y='starts', color = base_color, alpha=0.5);\n",
    "# sb.barplot(data=df_stations_clean, x='station_id', y='starts')\n",
    "plt.xticks([]);"
   ]
  },
  {
   "cell_type": "markdown",
   "metadata": {
    "slideshow": {
     "slide_type": "slide"
    }
   },
   "source": [
    "## (Visualization 3)"
   ]
  },
  {
   "cell_type": "code",
   "execution_count": null,
   "metadata": {
    "slideshow": {
     "slide_type": "subslide"
    }
   },
   "outputs": [],
   "source": []
  },
  {
   "cell_type": "markdown",
   "metadata": {
    "slideshow": {
     "slide_type": "notes"
    }
   },
   "source": [
    "> Once you're ready to finish your presentation, check your output by using\n",
    "nbconvert to export the notebook and set up a server for the slides. From the\n",
    "terminal or command line, use the following expression:\n",
    "> > `jupyter nbconvert <file_name>.ipynb --to slides --post serve --template output_toggle`\n",
    "\n",
    "> This should open a tab in your web browser where you can scroll through your\n",
    "presentation. Sub-slides can be accessed by pressing 'down' when viewing its parent\n",
    "slide. Make sure you remove all of the quote-formatted guide notes like this one\n",
    "before you finish your presentation!"
   ]
  },
  {
   "cell_type": "code",
   "execution_count": null,
   "metadata": {},
   "outputs": [],
   "source": []
  }
 ],
 "metadata": {
  "celltoolbar": "Slideshow",
  "kernelspec": {
   "display_name": "Python 3",
   "language": "python",
   "name": "python3"
  },
  "language_info": {
   "codemirror_mode": {
    "name": "ipython",
    "version": 3
   },
   "file_extension": ".py",
   "mimetype": "text/x-python",
   "name": "python",
   "nbconvert_exporter": "python",
   "pygments_lexer": "ipython3",
   "version": "3.7.3"
  },
  "toc": {
   "base_numbering": 1,
   "nav_menu": {},
   "number_sections": true,
   "sideBar": false,
   "skip_h1_title": false,
   "title_cell": "Table of Contents",
   "title_sidebar": "Contents",
   "toc_cell": false,
   "toc_position": {
    "height": "47.05882263183594px",
    "left": "77.99999237060547px",
    "top": "53.62131881713867px",
    "width": "160.0735321044922px"
   },
   "toc_section_display": false,
   "toc_window_display": true
  }
 },
 "nbformat": 4,
 "nbformat_minor": 2
}
